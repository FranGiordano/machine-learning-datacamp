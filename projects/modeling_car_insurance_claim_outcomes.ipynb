{
 "cells": [
  {
   "source": [
    "Insurance companies invest a lot of [time and money](https://www.accenture.com/_acnmedia/pdf-84/accenture-machine-leaning-insurance.pdf) into optimizing their pricing and accurately estimating the likelihood that customers will make a claim. In many countries insurance it is a legal requirement to have car insurance in order to drive a vehicle on public roads, so the market is very large!\n",
    "\n",
    "Knowing all of this, On the Road car insurance have requested your services in building a model to predict whether a customer will make a claim on their insurance during the policy period. As they have very little expertise and infrastructure for deploying and monitoring machine learning models, they've asked you to identify the single feature that results in the best performing model, as measured by accuracy, so they can start with a simple model in production.\n",
    "\n",
    "They have supplied you with their customer data as a csv file called `car_insurance.csv`, along with a table detailing the column names and descriptions below."
   ],
   "metadata": {},
   "id": "c3f0e974-faf8-458f-bf2a-06a469d0ea5e",
   "cell_type": "markdown",
   "attachments": {}
  },
  {
   "source": [
    "\n",
    "\n",
    "## The dataset\n",
    "\n",
    "| Column | Description |\n",
    "|--------|-------------|\n",
    "| `id` | Unique client identifier |\n",
    "| `age` | Client's age: <br> <ul><li>`0`: 16-15</li><li>`1`: 26-39</li><li>`2`: 40-64</li><li>`3`: 65+</li></ul> |\n",
    "| `gender` | Client's gender: <br> <ul><li>`0`: Female</li><li>`1`: Male</li></ul> |\n",
    "| `driving_experience` | Years the client has been driving: <br> <ul><li>`0`: 0-9</li><li>`1`: 10-19</li><li>`2`: 20-29</li><li>`3`: 30+</li></ul> |\n",
    "| `education` | Client's level of education: <br> <ul><li>`0`: No education</li><li>`1`: High school</li><li>`2`: University</li></ul> |\n",
    "| `income` | Client's income level: <br> <ul><li>`0`: Poverty</li><li>`1`: Working class</li><li>`2`: Middle class</li><li>`3`: Upper class</li></ul> |\n",
    "| `credit_score` | Client's credit score (between zero and one) |\n",
    "| `vehicle_ownership` | Client's vehicle ownership status: <br><ul><li>`0`: Does not own their vehilce (paying off finance)</li><li>`1`: Owns their vehicle</li></ul> |\n",
    "| `vehcile_year` | Year of vehicle registration: <br><ul><li>`0`: Before 2015</li><li>`1`: 2015 or later</li></ul> |\n",
    "| `married` | Client's marital status: <br><ul><li>`0`: Not married</li><li>`1`: Married</li></ul> |\n",
    "| `children` | Client's number of children |\n",
    "| `postal_code` | Client's postal code | \n",
    "| `annual_mileage` | Number of miles driven by the client each year |\n",
    "| `vehicle_type` | Type of car: <br> <ul><li>`0`: Sedan</li><li>`1`: Sports car</li></ul> |\n",
    "| `speeding_violations` | Total number of speeding violations received by the client | \n",
    "| `duis` | Number of times the client has been caught driving under the influence of alcohol |\n",
    "| `past_accidents` | Total number of previous accidents the client has been involved in |\n",
    "| `outcome` | Whether the client made a claim on their car insurance (response variable): <br><ul><li>`0`: No claim</li><li>`1`: Made a claim</li></ul> |"
   ],
   "metadata": {},
   "id": "8928ffdf-25d6-4ad9-909f-0dd8d10b9a42",
   "cell_type": "markdown"
  },
  {
   "source": [
    "# Import required modules\n",
    "import pandas as pd\n",
    "import numpy as np\n",
    "from statsmodels.formula.api import logit\n",
    "import seaborn as sns\n",
    "\n",
    "# Start coding!\n",
    "df = pd.read_csv(\"../datasets/car_insurance.csv\")\n",
    "df.head()"
   ],
   "metadata": {
    "executionTime": 50,
    "id": "bA5ajAmk7XH6",
    "lastSuccessfullyExecutedCode": "# Import required modules\nimport pandas as pd\nimport numpy as np\nfrom statsmodels.formula.api import logit\nimport seaborn as sns\n\n# Start coding!\ndf = pd.read_csv(\"car_insurance.csv\")\ndf.head()",
    "executionCancelledAt": null,
    "lastExecutedAt": 1704786160405,
    "lastScheduledRunId": null,
    "ExecuteTime": {
     "end_time": "2024-01-10T00:21:39.646073200Z",
     "start_time": "2024-01-10T00:21:39.292343100Z"
    }
   },
   "id": "d0eb4f16-5a99-460d-a5ba-706b7ef0bbe7",
   "cell_type": "code",
   "execution_count": 2,
   "outputs": [
    {
     "data": {
      "text/plain": "       id  age  gender driving_experience    education         income  \\\n0  569520    3       0               0-9y  high school    upper class   \n1  750365    0       1               0-9y         none        poverty   \n2  199901    0       0               0-9y  high school  working class   \n3  478866    0       1               0-9y   university  working class   \n4  731664    1       1             10-19y         none  working class   \n\n   credit_score  vehicle_ownership vehicle_year  married  children  \\\n0      0.629027                1.0   after 2015      0.0       1.0   \n1      0.357757                0.0  before 2015      0.0       0.0   \n2      0.493146                1.0  before 2015      0.0       0.0   \n3      0.206013                1.0  before 2015      0.0       1.0   \n4      0.388366                1.0  before 2015      0.0       0.0   \n\n   postal_code  annual_mileage vehicle_type  speeding_violations  duis  \\\n0        10238         12000.0        sedan                    0     0   \n1        10238         16000.0        sedan                    0     0   \n2        10238         11000.0        sedan                    0     0   \n3        32765         11000.0        sedan                    0     0   \n4        32765         12000.0        sedan                    2     0   \n\n   past_accidents  outcome  \n0               0      0.0  \n1               0      1.0  \n2               0      0.0  \n3               0      0.0  \n4               1      1.0  ",
      "text/html": "<div>\n<style scoped>\n    .dataframe tbody tr th:only-of-type {\n        vertical-align: middle;\n    }\n\n    .dataframe tbody tr th {\n        vertical-align: top;\n    }\n\n    .dataframe thead th {\n        text-align: right;\n    }\n</style>\n<table border=\"1\" class=\"dataframe\">\n  <thead>\n    <tr style=\"text-align: right;\">\n      <th></th>\n      <th>id</th>\n      <th>age</th>\n      <th>gender</th>\n      <th>driving_experience</th>\n      <th>education</th>\n      <th>income</th>\n      <th>credit_score</th>\n      <th>vehicle_ownership</th>\n      <th>vehicle_year</th>\n      <th>married</th>\n      <th>children</th>\n      <th>postal_code</th>\n      <th>annual_mileage</th>\n      <th>vehicle_type</th>\n      <th>speeding_violations</th>\n      <th>duis</th>\n      <th>past_accidents</th>\n      <th>outcome</th>\n    </tr>\n  </thead>\n  <tbody>\n    <tr>\n      <th>0</th>\n      <td>569520</td>\n      <td>3</td>\n      <td>0</td>\n      <td>0-9y</td>\n      <td>high school</td>\n      <td>upper class</td>\n      <td>0.629027</td>\n      <td>1.0</td>\n      <td>after 2015</td>\n      <td>0.0</td>\n      <td>1.0</td>\n      <td>10238</td>\n      <td>12000.0</td>\n      <td>sedan</td>\n      <td>0</td>\n      <td>0</td>\n      <td>0</td>\n      <td>0.0</td>\n    </tr>\n    <tr>\n      <th>1</th>\n      <td>750365</td>\n      <td>0</td>\n      <td>1</td>\n      <td>0-9y</td>\n      <td>none</td>\n      <td>poverty</td>\n      <td>0.357757</td>\n      <td>0.0</td>\n      <td>before 2015</td>\n      <td>0.0</td>\n      <td>0.0</td>\n      <td>10238</td>\n      <td>16000.0</td>\n      <td>sedan</td>\n      <td>0</td>\n      <td>0</td>\n      <td>0</td>\n      <td>1.0</td>\n    </tr>\n    <tr>\n      <th>2</th>\n      <td>199901</td>\n      <td>0</td>\n      <td>0</td>\n      <td>0-9y</td>\n      <td>high school</td>\n      <td>working class</td>\n      <td>0.493146</td>\n      <td>1.0</td>\n      <td>before 2015</td>\n      <td>0.0</td>\n      <td>0.0</td>\n      <td>10238</td>\n      <td>11000.0</td>\n      <td>sedan</td>\n      <td>0</td>\n      <td>0</td>\n      <td>0</td>\n      <td>0.0</td>\n    </tr>\n    <tr>\n      <th>3</th>\n      <td>478866</td>\n      <td>0</td>\n      <td>1</td>\n      <td>0-9y</td>\n      <td>university</td>\n      <td>working class</td>\n      <td>0.206013</td>\n      <td>1.0</td>\n      <td>before 2015</td>\n      <td>0.0</td>\n      <td>1.0</td>\n      <td>32765</td>\n      <td>11000.0</td>\n      <td>sedan</td>\n      <td>0</td>\n      <td>0</td>\n      <td>0</td>\n      <td>0.0</td>\n    </tr>\n    <tr>\n      <th>4</th>\n      <td>731664</td>\n      <td>1</td>\n      <td>1</td>\n      <td>10-19y</td>\n      <td>none</td>\n      <td>working class</td>\n      <td>0.388366</td>\n      <td>1.0</td>\n      <td>before 2015</td>\n      <td>0.0</td>\n      <td>0.0</td>\n      <td>32765</td>\n      <td>12000.0</td>\n      <td>sedan</td>\n      <td>2</td>\n      <td>0</td>\n      <td>1</td>\n      <td>1.0</td>\n    </tr>\n  </tbody>\n</table>\n</div>"
     },
     "execution_count": 2,
     "metadata": {},
     "output_type": "execute_result"
    }
   ]
  },
  {
   "source": [
    "df.info()"
   ],
   "metadata": {
    "executionCancelledAt": null,
    "executionTime": 50,
    "lastExecutedAt": 1704786160455,
    "lastScheduledRunId": null,
    "lastSuccessfullyExecutedCode": "df.info()",
    "ExecuteTime": {
     "end_time": "2024-01-10T00:21:39.663407400Z",
     "start_time": "2024-01-10T00:21:39.647585800Z"
    }
   },
   "cell_type": "code",
   "id": "5102f8d5-68e1-4ebd-bdee-b96d980e0d1c",
   "execution_count": 3,
   "outputs": [
    {
     "name": "stdout",
     "output_type": "stream",
     "text": [
      "<class 'pandas.core.frame.DataFrame'>\n",
      "RangeIndex: 10000 entries, 0 to 9999\n",
      "Data columns (total 18 columns):\n",
      " #   Column               Non-Null Count  Dtype  \n",
      "---  ------               --------------  -----  \n",
      " 0   id                   10000 non-null  int64  \n",
      " 1   age                  10000 non-null  int64  \n",
      " 2   gender               10000 non-null  int64  \n",
      " 3   driving_experience   10000 non-null  object \n",
      " 4   education            10000 non-null  object \n",
      " 5   income               10000 non-null  object \n",
      " 6   credit_score         9018 non-null   float64\n",
      " 7   vehicle_ownership    10000 non-null  float64\n",
      " 8   vehicle_year         10000 non-null  object \n",
      " 9   married              10000 non-null  float64\n",
      " 10  children             10000 non-null  float64\n",
      " 11  postal_code          10000 non-null  int64  \n",
      " 12  annual_mileage       9043 non-null   float64\n",
      " 13  vehicle_type         10000 non-null  object \n",
      " 14  speeding_violations  10000 non-null  int64  \n",
      " 15  duis                 10000 non-null  int64  \n",
      " 16  past_accidents       10000 non-null  int64  \n",
      " 17  outcome              10000 non-null  float64\n",
      "dtypes: float64(6), int64(7), object(5)\n",
      "memory usage: 1.4+ MB\n"
     ]
    }
   ]
  },
  {
   "source": [
    "df[\"outcome\"] = df[\"outcome\"].astype(int)"
   ],
   "metadata": {
    "executionCancelledAt": null,
    "executionTime": 50,
    "lastExecutedAt": 1704786160505,
    "lastScheduledRunId": null,
    "lastSuccessfullyExecutedCode": "df[\"outcome\"] = df[\"outcome\"].astype(int)",
    "ExecuteTime": {
     "end_time": "2024-01-10T00:21:39.699103500Z",
     "start_time": "2024-01-10T00:21:39.665411500Z"
    }
   },
   "cell_type": "code",
   "id": "7be607d6-0f8e-43de-80cc-c559ab8ac9d4",
   "execution_count": 4,
   "outputs": []
  },
  {
   "source": [
    "print(df[\"driving_experience\"].value_counts())"
   ],
   "metadata": {
    "executionCancelledAt": null,
    "executionTime": 48,
    "lastExecutedAt": 1704786160554,
    "lastScheduledRunId": null,
    "lastSuccessfullyExecutedCode": "print(df[\"driving_experience\"].value_counts())",
    "ExecuteTime": {
     "end_time": "2024-01-10T00:21:39.730644200Z",
     "start_time": "2024-01-10T00:21:39.671044800Z"
    }
   },
   "cell_type": "code",
   "id": "414219c5-966d-47b3-bb07-a82ecf40e36d",
   "execution_count": 5,
   "outputs": [
    {
     "name": "stdout",
     "output_type": "stream",
     "text": [
      "driving_experience\n",
      "0-9y      3530\n",
      "10-19y    3299\n",
      "20-29y    2119\n",
      "30y+      1052\n",
      "Name: count, dtype: int64\n"
     ]
    }
   ]
  },
  {
   "source": [
    "df[\"driving_experience\"] = df[\"driving_experience\"].replace({\"0-9y\":1,\"10-19y\":2,\"20-29y\":3,\"30y+\":4}).astype(int)"
   ],
   "metadata": {
    "executionCancelledAt": null,
    "executionTime": 52,
    "lastExecutedAt": 1704786160606,
    "lastScheduledRunId": null,
    "lastSuccessfullyExecutedCode": "df[\"driving_experience\"] = df[\"driving_experience\"].replace({\"0-9y\":1,\"10-19y\":2,\"20-29y\":3,\"30y+\":4}).astype(int)",
    "ExecuteTime": {
     "end_time": "2024-01-10T00:21:39.770428600Z",
     "start_time": "2024-01-10T00:21:39.680909100Z"
    }
   },
   "cell_type": "code",
   "id": "25c64e0b-51a2-4ed1-850a-26360e693731",
   "execution_count": 6,
   "outputs": []
  },
  {
   "source": [
    "sns.heatmap(df.corr(), annot=True)"
   ],
   "metadata": {
    "executionCancelledAt": null,
    "executionTime": 656,
    "lastExecutedAt": 1704786161262,
    "lastScheduledRunId": null,
    "lastSuccessfullyExecutedCode": "sns.heatmap(df.corr(), annot=True)",
    "ExecuteTime": {
     "end_time": "2024-01-10T00:22:59.371614400Z",
     "start_time": "2024-01-10T00:22:59.323291600Z"
    }
   },
   "cell_type": "code",
   "id": "40c3d258-32ab-452c-881a-92b024360ac8",
   "execution_count": 9,
   "outputs": [
    {
     "ename": "ValueError",
     "evalue": "could not convert string to float: 'high school'",
     "output_type": "error",
     "traceback": [
      "\u001B[1;31m---------------------------------------------------------------------------\u001B[0m",
      "\u001B[1;31mValueError\u001B[0m                                Traceback (most recent call last)",
      "Cell \u001B[1;32mIn[9], line 1\u001B[0m\n\u001B[1;32m----> 1\u001B[0m sns\u001B[38;5;241m.\u001B[39mheatmap(\u001B[43mdf\u001B[49m\u001B[38;5;241;43m.\u001B[39;49m\u001B[43mcorr\u001B[49m\u001B[43m(\u001B[49m\u001B[43m)\u001B[49m, annot\u001B[38;5;241m=\u001B[39m\u001B[38;5;28;01mTrue\u001B[39;00m)\n",
      "File \u001B[1;32mC:\\Program Files\\Python312\\Lib\\site-packages\\pandas\\core\\frame.py:10704\u001B[0m, in \u001B[0;36mDataFrame.corr\u001B[1;34m(self, method, min_periods, numeric_only)\u001B[0m\n\u001B[0;32m  10702\u001B[0m cols \u001B[38;5;241m=\u001B[39m data\u001B[38;5;241m.\u001B[39mcolumns\n\u001B[0;32m  10703\u001B[0m idx \u001B[38;5;241m=\u001B[39m cols\u001B[38;5;241m.\u001B[39mcopy()\n\u001B[1;32m> 10704\u001B[0m mat \u001B[38;5;241m=\u001B[39m \u001B[43mdata\u001B[49m\u001B[38;5;241;43m.\u001B[39;49m\u001B[43mto_numpy\u001B[49m\u001B[43m(\u001B[49m\u001B[43mdtype\u001B[49m\u001B[38;5;241;43m=\u001B[39;49m\u001B[38;5;28;43mfloat\u001B[39;49m\u001B[43m,\u001B[49m\u001B[43m \u001B[49m\u001B[43mna_value\u001B[49m\u001B[38;5;241;43m=\u001B[39;49m\u001B[43mnp\u001B[49m\u001B[38;5;241;43m.\u001B[39;49m\u001B[43mnan\u001B[49m\u001B[43m,\u001B[49m\u001B[43m \u001B[49m\u001B[43mcopy\u001B[49m\u001B[38;5;241;43m=\u001B[39;49m\u001B[38;5;28;43;01mFalse\u001B[39;49;00m\u001B[43m)\u001B[49m\n\u001B[0;32m  10706\u001B[0m \u001B[38;5;28;01mif\u001B[39;00m method \u001B[38;5;241m==\u001B[39m \u001B[38;5;124m\"\u001B[39m\u001B[38;5;124mpearson\u001B[39m\u001B[38;5;124m\"\u001B[39m:\n\u001B[0;32m  10707\u001B[0m     correl \u001B[38;5;241m=\u001B[39m libalgos\u001B[38;5;241m.\u001B[39mnancorr(mat, minp\u001B[38;5;241m=\u001B[39mmin_periods)\n",
      "File \u001B[1;32mC:\\Program Files\\Python312\\Lib\\site-packages\\pandas\\core\\frame.py:1889\u001B[0m, in \u001B[0;36mDataFrame.to_numpy\u001B[1;34m(self, dtype, copy, na_value)\u001B[0m\n\u001B[0;32m   1887\u001B[0m \u001B[38;5;28;01mif\u001B[39;00m dtype \u001B[38;5;129;01mis\u001B[39;00m \u001B[38;5;129;01mnot\u001B[39;00m \u001B[38;5;28;01mNone\u001B[39;00m:\n\u001B[0;32m   1888\u001B[0m     dtype \u001B[38;5;241m=\u001B[39m np\u001B[38;5;241m.\u001B[39mdtype(dtype)\n\u001B[1;32m-> 1889\u001B[0m result \u001B[38;5;241m=\u001B[39m \u001B[38;5;28;43mself\u001B[39;49m\u001B[38;5;241;43m.\u001B[39;49m\u001B[43m_mgr\u001B[49m\u001B[38;5;241;43m.\u001B[39;49m\u001B[43mas_array\u001B[49m\u001B[43m(\u001B[49m\u001B[43mdtype\u001B[49m\u001B[38;5;241;43m=\u001B[39;49m\u001B[43mdtype\u001B[49m\u001B[43m,\u001B[49m\u001B[43m \u001B[49m\u001B[43mcopy\u001B[49m\u001B[38;5;241;43m=\u001B[39;49m\u001B[43mcopy\u001B[49m\u001B[43m,\u001B[49m\u001B[43m \u001B[49m\u001B[43mna_value\u001B[49m\u001B[38;5;241;43m=\u001B[39;49m\u001B[43mna_value\u001B[49m\u001B[43m)\u001B[49m\n\u001B[0;32m   1890\u001B[0m \u001B[38;5;28;01mif\u001B[39;00m result\u001B[38;5;241m.\u001B[39mdtype \u001B[38;5;129;01mis\u001B[39;00m \u001B[38;5;129;01mnot\u001B[39;00m dtype:\n\u001B[0;32m   1891\u001B[0m     result \u001B[38;5;241m=\u001B[39m np\u001B[38;5;241m.\u001B[39marray(result, dtype\u001B[38;5;241m=\u001B[39mdtype, copy\u001B[38;5;241m=\u001B[39m\u001B[38;5;28;01mFalse\u001B[39;00m)\n",
      "File \u001B[1;32mC:\\Program Files\\Python312\\Lib\\site-packages\\pandas\\core\\internals\\managers.py:1656\u001B[0m, in \u001B[0;36mBlockManager.as_array\u001B[1;34m(self, dtype, copy, na_value)\u001B[0m\n\u001B[0;32m   1654\u001B[0m         arr\u001B[38;5;241m.\u001B[39mflags\u001B[38;5;241m.\u001B[39mwriteable \u001B[38;5;241m=\u001B[39m \u001B[38;5;28;01mFalse\u001B[39;00m\n\u001B[0;32m   1655\u001B[0m \u001B[38;5;28;01melse\u001B[39;00m:\n\u001B[1;32m-> 1656\u001B[0m     arr \u001B[38;5;241m=\u001B[39m \u001B[38;5;28;43mself\u001B[39;49m\u001B[38;5;241;43m.\u001B[39;49m\u001B[43m_interleave\u001B[49m\u001B[43m(\u001B[49m\u001B[43mdtype\u001B[49m\u001B[38;5;241;43m=\u001B[39;49m\u001B[43mdtype\u001B[49m\u001B[43m,\u001B[49m\u001B[43m \u001B[49m\u001B[43mna_value\u001B[49m\u001B[38;5;241;43m=\u001B[39;49m\u001B[43mna_value\u001B[49m\u001B[43m)\u001B[49m\n\u001B[0;32m   1657\u001B[0m     \u001B[38;5;66;03m# The underlying data was copied within _interleave, so no need\u001B[39;00m\n\u001B[0;32m   1658\u001B[0m     \u001B[38;5;66;03m# to further copy if copy=True or setting na_value\u001B[39;00m\n\u001B[0;32m   1660\u001B[0m \u001B[38;5;28;01mif\u001B[39;00m na_value \u001B[38;5;129;01mis\u001B[39;00m lib\u001B[38;5;241m.\u001B[39mno_default:\n",
      "File \u001B[1;32mC:\\Program Files\\Python312\\Lib\\site-packages\\pandas\\core\\internals\\managers.py:1715\u001B[0m, in \u001B[0;36mBlockManager._interleave\u001B[1;34m(self, dtype, na_value)\u001B[0m\n\u001B[0;32m   1713\u001B[0m     \u001B[38;5;28;01melse\u001B[39;00m:\n\u001B[0;32m   1714\u001B[0m         arr \u001B[38;5;241m=\u001B[39m blk\u001B[38;5;241m.\u001B[39mget_values(dtype)\n\u001B[1;32m-> 1715\u001B[0m     \u001B[43mresult\u001B[49m\u001B[43m[\u001B[49m\u001B[43mrl\u001B[49m\u001B[38;5;241;43m.\u001B[39;49m\u001B[43mindexer\u001B[49m\u001B[43m]\u001B[49m \u001B[38;5;241m=\u001B[39m arr\n\u001B[0;32m   1716\u001B[0m     itemmask[rl\u001B[38;5;241m.\u001B[39mindexer] \u001B[38;5;241m=\u001B[39m \u001B[38;5;241m1\u001B[39m\n\u001B[0;32m   1718\u001B[0m \u001B[38;5;28;01mif\u001B[39;00m \u001B[38;5;129;01mnot\u001B[39;00m itemmask\u001B[38;5;241m.\u001B[39mall():\n",
      "\u001B[1;31mValueError\u001B[0m: could not convert string to float: 'high school'"
     ]
    }
   ]
  },
  {
   "source": [
    "sns.displot(data=df, x='age', col='outcome')"
   ],
   "metadata": {
    "executionCancelledAt": null,
    "executionTime": 465,
    "lastExecutedAt": 1704786161727,
    "lastScheduledRunId": null,
    "lastSuccessfullyExecutedCode": "sns.displot(data=df, x='age', col='outcome')",
    "outputsMetadata": {
     "0": {
      "height": 77,
      "type": "stream"
     }
    },
    "ExecuteTime": {
     "end_time": "2024-01-10T00:21:40.409203300Z",
     "start_time": "2024-01-10T00:21:40.405094Z"
    }
   },
   "cell_type": "code",
   "id": "f7927766-7a91-4105-86c4-d50042cb505b",
   "execution_count": null,
   "outputs": []
  },
  {
   "source": [
    "from statsmodels.formula.api import logit\n",
    "\n",
    "features = df.columns.drop(\"outcome\").drop(\"id\")\n",
    "accuracies = []\n",
    "\n",
    "for i in features:\n",
    "    model = logit(f\"outcome~{i}\", data=df).fit(disp=0)\n",
    "    conf_matrix = model.pred_table()\n",
    "    accuracy = (conf_matrix[0,0]+conf_matrix[1,1])/(conf_matrix[0,0]+conf_matrix[0,1]+conf_matrix[1,0]+conf_matrix[1,1])\n",
    "    accuracies.append(accuracy)\n",
    "    \n",
    "results = pd.DataFrame({\"features\":features, \"accuracies\":accuracies}).sort_values(\"accuracies\", ascending=False)\n",
    "results"
   ],
   "metadata": {
    "executionCancelledAt": null,
    "executionTime": 2239,
    "lastExecutedAt": 1704786163966,
    "lastScheduledRunId": null,
    "lastSuccessfullyExecutedCode": "from statsmodels.formula.api import logit\n\nfeatures = df.columns.drop(\"outcome\").drop(\"id\")\naccuracies = []\n\nfor i in features:\n    model = logit(f\"outcome~{i}\", data=df).fit(disp=0)\n    conf_matrix = model.pred_table()\n    accuracy = (conf_matrix[0,0]+conf_matrix[1,1])/(conf_matrix[0,0]+conf_matrix[0,1]+conf_matrix[1,0]+conf_matrix[1,1])\n    accuracies.append(accuracy)\n    \nresults = pd.DataFrame({\"features\":features, \"accuracies\":accuracies}).sort_values(\"accuracies\", ascending=False)\nresults",
    "outputsMetadata": {
     "0": {
      "height": 197,
      "type": "stream"
     }
    },
    "visualizeDataframe": false,
    "chartConfig": {
     "bar": {
      "hasRoundedCorners": true,
      "stacked": false
     },
     "type": "bar",
     "version": "v1",
     "x": {
      "field": "features",
      "type": "string"
     },
     "y": {
      "field": "accuracies",
      "type": "number"
     }
    },
    "ExecuteTime": {
     "start_time": "2024-01-10T00:21:40.408686600Z"
    }
   },
   "cell_type": "code",
   "id": "238e0939-b364-456c-9af1-269472b5bdaa",
   "execution_count": null,
   "outputs": []
  },
  {
   "source": [
    "best_feature_df = pd.DataFrame({\"best_feature\":results[\"features\"].iloc[:1], \"best_accuracy\":results[\"accuracies\"].iloc[:1]})\n",
    "best_feature_df"
   ],
   "metadata": {
    "executionCancelledAt": null,
    "executionTime": 52,
    "lastExecutedAt": 1704786164018,
    "lastScheduledRunId": null,
    "lastSuccessfullyExecutedCode": "best_feature_df = pd.DataFrame({\"best_feature\":results[\"features\"].iloc[:1], \"best_accuracy\":results[\"accuracies\"].iloc[:1]})\nbest_feature_df",
    "ExecuteTime": {
     "end_time": "2024-01-10T00:21:40.413519Z",
     "start_time": "2024-01-10T00:21:40.412186Z"
    }
   },
   "cell_type": "code",
   "id": "c37c10b0-7e9c-4558-b99d-4dcab3a4909e",
   "execution_count": null,
   "outputs": []
  }
 ],
 "metadata": {
  "colab": {
   "name": "Welcome to DataCamp Workspaces.ipynb",
   "provenance": []
  },
  "kernelspec": {
   "display_name": "Python 3 (ipykernel)",
   "language": "python",
   "name": "python3"
  },
  "language_info": {
   "name": "python",
   "version": "3.8.10",
   "mimetype": "text/x-python",
   "codemirror_mode": {
    "name": "ipython",
    "version": 3
   },
   "pygments_lexer": "ipython3",
   "nbconvert_exporter": "python",
   "file_extension": ".py"
  },
  "vscode": {
   "interpreter": {
    "hash": "aee8b7b246df8f9039afb4144a1f6fd8d2ca17a180786b69acc140d282b71a49"
   }
  },
  "editor": "DataCamp Workspace"
 },
 "nbformat": 4,
 "nbformat_minor": 5
}
