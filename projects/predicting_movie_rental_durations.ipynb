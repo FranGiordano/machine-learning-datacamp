{
 "cells": [
  {
   "source": [
    "A DVD rental company needs your help! They want to figure out how many days a customer will rent a DVD for based on some features and has approached you for help. They want you to try out some regression models which will help predict the number of days a customer will rent a DVD for. The company wants a model which yeilds a MSE of 3 or less on a test set. The model you make will help the company become more efficient inventory planning.\n",
    "\n",
    "The data they provided is in the csv file `rental_info.csv`. It has the following features:\n",
    "- `\"rental_date\"`: The date (and time) the customer rents the DVD.\n",
    "- `\"return_date\"`: The date (and time) the customer returns the DVD.\n",
    "- `\"amount\"`: The amount paid by the customer for renting the DVD.\n",
    "- `\"amount_2\"`: The square of `\"amount\"`.\n",
    "- `\"rental_rate\"`: The rate at which the DVD is rented for.\n",
    "- `\"rental_rate_2\"`: The square of `\"rental_rate\"`.\n",
    "- `\"release_year\"`: The year the movie being rented was released.\n",
    "- `\"length\"`: Lenght of the movie being rented, in minuites.\n",
    "- `\"length_2\"`: The square of `\"length\"`.\n",
    "- `\"replacement_cost\"`: The amount it will cost the company to replace the DVD.\n",
    "- `\"special_features\"`: Any special features, for example trailers/deleted scenes that the DVD also has.\n",
    "- `\"NC-17\"`, `\"PG\"`, `\"PG-13\"`, `\"R\"`: These columns are dummy variables of the rating of the movie. It takes the value 1 if the move is rated as the column name and 0 otherwise. For your convinience, the reference dummy has already been dropped."
   ],
   "metadata": {},
   "id": "b4ae5707-109f-4cd6-8168-88cac0179d6b",
   "cell_type": "markdown"
  },
  {
   "source": [
    "import pandas as pd\n",
    "import numpy as np\n",
    "\n",
    "from sklearn.model_selection import train_test_split\n",
    "from sklearn.metrics import mean_squared_error\n",
    "\n",
    "# Import any additional modules and start coding below\n",
    "df = pd.read_csv('../datasets/rental_info.csv')\n",
    "df.head()"
   ],
   "metadata": {
    "executionCancelledAt": null,
    "executionTime": 63,
    "lastExecutedAt": 1705038381177,
    "lastScheduledRunId": null,
    "lastSuccessfullyExecutedCode": "import pandas as pd\nimport numpy as np\n\nfrom sklearn.model_selection import train_test_split\nfrom sklearn.metrics import mean_squared_error\n\n# Import any additional modules and start coding below\ndf = pd.read_csv('rental_info.csv')\ndf.head()",
    "outputsMetadata": {
     "0": {
      "height": 213,
      "type": "dataFrame"
     }
    }
   },
   "id": "a7ede566-910a-445c-b11a-68d192ac8506",
   "cell_type": "code",
   "execution_count": 145,
   "outputs": [
    {
     "output_type": "execute_result",
     "data": {
      "application/com.datacamp.data-table.v2+json": {
       "table": {
        "schema": {
         "fields": [
          {
           "name": "index",
           "type": "integer"
          },
          {
           "name": "rental_date",
           "type": "string"
          },
          {
           "name": "return_date",
           "type": "string"
          },
          {
           "name": "amount",
           "type": "number"
          },
          {
           "name": "release_year",
           "type": "number"
          },
          {
           "name": "rental_rate",
           "type": "number"
          },
          {
           "name": "length",
           "type": "number"
          },
          {
           "name": "replacement_cost",
           "type": "number"
          },
          {
           "name": "special_features",
           "type": "string"
          },
          {
           "name": "NC-17",
           "type": "integer"
          },
          {
           "name": "PG",
           "type": "integer"
          },
          {
           "name": "PG-13",
           "type": "integer"
          },
          {
           "name": "R",
           "type": "integer"
          },
          {
           "name": "amount_2",
           "type": "number"
          },
          {
           "name": "length_2",
           "type": "number"
          },
          {
           "name": "rental_rate_2",
           "type": "number"
          }
         ],
         "primaryKey": [
          "index"
         ],
         "pandas_version": "1.4.0"
        },
        "data": {
         "index": [
          0,
          1,
          2,
          3,
          4
         ],
         "rental_date": [
          "2005-05-25 02:54:33+00:00",
          "2005-06-15 23:19:16+00:00",
          "2005-07-10 04:27:45+00:00",
          "2005-07-31 12:06:41+00:00",
          "2005-08-19 12:30:04+00:00"
         ],
         "return_date": [
          "2005-05-28 23:40:33+00:00",
          "2005-06-18 19:24:16+00:00",
          "2005-07-17 10:11:45+00:00",
          "2005-08-02 14:30:41+00:00",
          "2005-08-23 13:35:04+00:00"
         ],
         "amount": [
          2.99,
          2.99,
          2.99,
          2.99,
          2.99
         ],
         "release_year": [
          2005,
          2005,
          2005,
          2005,
          2005
         ],
         "rental_rate": [
          2.99,
          2.99,
          2.99,
          2.99,
          2.99
         ],
         "length": [
          126,
          126,
          126,
          126,
          126
         ],
         "replacement_cost": [
          16.99,
          16.99,
          16.99,
          16.99,
          16.99
         ],
         "special_features": [
          "{Trailers,\"Behind the Scenes\"}",
          "{Trailers,\"Behind the Scenes\"}",
          "{Trailers,\"Behind the Scenes\"}",
          "{Trailers,\"Behind the Scenes\"}",
          "{Trailers,\"Behind the Scenes\"}"
         ],
         "NC-17": [
          0,
          0,
          0,
          0,
          0
         ],
         "PG": [
          0,
          0,
          0,
          0,
          0
         ],
         "PG-13": [
          0,
          0,
          0,
          0,
          0
         ],
         "R": [
          1,
          1,
          1,
          1,
          1
         ],
         "amount_2": [
          8.9401,
          8.9401,
          8.9401,
          8.9401,
          8.9401
         ],
         "length_2": [
          15876,
          15876,
          15876,
          15876,
          15876
         ],
         "rental_rate_2": [
          8.9401,
          8.9401,
          8.9401,
          8.9401,
          8.9401
         ]
        }
       },
       "total_rows": 5,
       "truncation_type": null
      },
      "text/plain": "                 rental_date  ... rental_rate_2\n0  2005-05-25 02:54:33+00:00  ...        8.9401\n1  2005-06-15 23:19:16+00:00  ...        8.9401\n2  2005-07-10 04:27:45+00:00  ...        8.9401\n3  2005-07-31 12:06:41+00:00  ...        8.9401\n4  2005-08-19 12:30:04+00:00  ...        8.9401\n\n[5 rows x 15 columns]",
      "text/html": "<div>\n<style scoped>\n    .dataframe tbody tr th:only-of-type {\n        vertical-align: middle;\n    }\n\n    .dataframe tbody tr th {\n        vertical-align: top;\n    }\n\n    .dataframe thead th {\n        text-align: right;\n    }\n</style>\n<table border=\"1\" class=\"dataframe\">\n  <thead>\n    <tr style=\"text-align: right;\">\n      <th></th>\n      <th>rental_date</th>\n      <th>return_date</th>\n      <th>amount</th>\n      <th>release_year</th>\n      <th>rental_rate</th>\n      <th>length</th>\n      <th>replacement_cost</th>\n      <th>special_features</th>\n      <th>NC-17</th>\n      <th>PG</th>\n      <th>PG-13</th>\n      <th>R</th>\n      <th>amount_2</th>\n      <th>length_2</th>\n      <th>rental_rate_2</th>\n    </tr>\n  </thead>\n  <tbody>\n    <tr>\n      <th>0</th>\n      <td>2005-05-25 02:54:33+00:00</td>\n      <td>2005-05-28 23:40:33+00:00</td>\n      <td>2.99</td>\n      <td>2005.0</td>\n      <td>2.99</td>\n      <td>126.0</td>\n      <td>16.99</td>\n      <td>{Trailers,\"Behind the Scenes\"}</td>\n      <td>0</td>\n      <td>0</td>\n      <td>0</td>\n      <td>1</td>\n      <td>8.9401</td>\n      <td>15876.0</td>\n      <td>8.9401</td>\n    </tr>\n    <tr>\n      <th>1</th>\n      <td>2005-06-15 23:19:16+00:00</td>\n      <td>2005-06-18 19:24:16+00:00</td>\n      <td>2.99</td>\n      <td>2005.0</td>\n      <td>2.99</td>\n      <td>126.0</td>\n      <td>16.99</td>\n      <td>{Trailers,\"Behind the Scenes\"}</td>\n      <td>0</td>\n      <td>0</td>\n      <td>0</td>\n      <td>1</td>\n      <td>8.9401</td>\n      <td>15876.0</td>\n      <td>8.9401</td>\n    </tr>\n    <tr>\n      <th>2</th>\n      <td>2005-07-10 04:27:45+00:00</td>\n      <td>2005-07-17 10:11:45+00:00</td>\n      <td>2.99</td>\n      <td>2005.0</td>\n      <td>2.99</td>\n      <td>126.0</td>\n      <td>16.99</td>\n      <td>{Trailers,\"Behind the Scenes\"}</td>\n      <td>0</td>\n      <td>0</td>\n      <td>0</td>\n      <td>1</td>\n      <td>8.9401</td>\n      <td>15876.0</td>\n      <td>8.9401</td>\n    </tr>\n    <tr>\n      <th>3</th>\n      <td>2005-07-31 12:06:41+00:00</td>\n      <td>2005-08-02 14:30:41+00:00</td>\n      <td>2.99</td>\n      <td>2005.0</td>\n      <td>2.99</td>\n      <td>126.0</td>\n      <td>16.99</td>\n      <td>{Trailers,\"Behind the Scenes\"}</td>\n      <td>0</td>\n      <td>0</td>\n      <td>0</td>\n      <td>1</td>\n      <td>8.9401</td>\n      <td>15876.0</td>\n      <td>8.9401</td>\n    </tr>\n    <tr>\n      <th>4</th>\n      <td>2005-08-19 12:30:04+00:00</td>\n      <td>2005-08-23 13:35:04+00:00</td>\n      <td>2.99</td>\n      <td>2005.0</td>\n      <td>2.99</td>\n      <td>126.0</td>\n      <td>16.99</td>\n      <td>{Trailers,\"Behind the Scenes\"}</td>\n      <td>0</td>\n      <td>0</td>\n      <td>0</td>\n      <td>1</td>\n      <td>8.9401</td>\n      <td>15876.0</td>\n      <td>8.9401</td>\n    </tr>\n  </tbody>\n</table>\n</div>"
     },
     "metadata": {},
     "execution_count": 145
    }
   ]
  },
  {
   "source": [
    "df.info()"
   ],
   "metadata": {
    "executionCancelledAt": null,
    "executionTime": 47,
    "lastExecutedAt": 1705038381224,
    "lastScheduledRunId": null,
    "lastSuccessfullyExecutedCode": "df.info()",
    "outputsMetadata": {
     "0": {
      "height": 457,
      "type": "stream"
     }
    }
   },
   "cell_type": "code",
   "id": "73aed8e0-d19b-4c6c-aedf-1ee3c173a337",
   "execution_count": 146,
   "outputs": [
    {
     "output_type": "stream",
     "name": "stdout",
     "text": "<class 'pandas.core.frame.DataFrame'>\nRangeIndex: 15861 entries, 0 to 15860\nData columns (total 15 columns):\n #   Column            Non-Null Count  Dtype  \n---  ------            --------------  -----  \n 0   rental_date       15861 non-null  object \n 1   return_date       15861 non-null  object \n 2   amount            15861 non-null  float64\n 3   release_year      15861 non-null  float64\n 4   rental_rate       15861 non-null  float64\n 5   length            15861 non-null  float64\n 6   replacement_cost  15861 non-null  float64\n 7   special_features  15861 non-null  object \n 8   NC-17             15861 non-null  int64  \n 9   PG                15861 non-null  int64  \n 10  PG-13             15861 non-null  int64  \n 11  R                 15861 non-null  int64  \n 12  amount_2          15861 non-null  float64\n 13  length_2          15861 non-null  float64\n 14  rental_rate_2     15861 non-null  float64\ndtypes: float64(8), int64(4), object(3)\nmemory usage: 1.8+ MB\n"
    }
   ]
  },
  {
   "source": [
    "Adding the column \"rental_length_days\""
   ],
   "metadata": {},
   "cell_type": "markdown",
   "id": "143fa4e6-c89d-4f8a-934b-8a61c3a0b9f7"
  },
  {
   "source": [
    "df[\"return_date\"] = pd.to_datetime(df[\"return_date\"])\n",
    "df[\"rental_date\"] = pd.to_datetime(df[\"rental_date\"])\n",
    "df[\"rental_length_days\"] = (df[\"return_date\"] - df[\"rental_date\"]).dt.days\n",
    "df.head()"
   ],
   "metadata": {
    "executionCancelledAt": null,
    "executionTime": 56,
    "lastExecutedAt": 1705038381280,
    "lastScheduledRunId": null,
    "lastSuccessfullyExecutedCode": "df[\"return_date\"] = pd.to_datetime(df[\"return_date\"])\ndf[\"rental_date\"] = pd.to_datetime(df[\"rental_date\"])\ndf[\"rental_length_days\"] = (df[\"return_date\"] - df[\"rental_date\"]).dt.days\ndf.head()",
    "outputsMetadata": {
     "0": {
      "height": 213,
      "type": "dataFrame"
     }
    }
   },
   "cell_type": "code",
   "id": "66ad7a31-d63c-4651-abac-4879ddb0329c",
   "execution_count": 147,
   "outputs": [
    {
     "output_type": "execute_result",
     "data": {
      "application/com.datacamp.data-table.v2+json": {
       "table": {
        "schema": {
         "fields": [
          {
           "name": "index",
           "type": "integer"
          },
          {
           "name": "rental_date",
           "type": "datetime",
           "tz": "UTC"
          },
          {
           "name": "return_date",
           "type": "datetime",
           "tz": "UTC"
          },
          {
           "name": "amount",
           "type": "number"
          },
          {
           "name": "release_year",
           "type": "number"
          },
          {
           "name": "rental_rate",
           "type": "number"
          },
          {
           "name": "length",
           "type": "number"
          },
          {
           "name": "replacement_cost",
           "type": "number"
          },
          {
           "name": "special_features",
           "type": "string"
          },
          {
           "name": "NC-17",
           "type": "integer"
          },
          {
           "name": "PG",
           "type": "integer"
          },
          {
           "name": "PG-13",
           "type": "integer"
          },
          {
           "name": "R",
           "type": "integer"
          },
          {
           "name": "amount_2",
           "type": "number"
          },
          {
           "name": "length_2",
           "type": "number"
          },
          {
           "name": "rental_rate_2",
           "type": "number"
          },
          {
           "name": "rental_length_days",
           "type": "integer"
          }
         ],
         "primaryKey": [
          "index"
         ],
         "pandas_version": "1.4.0"
        },
        "data": {
         "index": [
          0,
          1,
          2,
          3,
          4
         ],
         "rental_date": [
          "2005-05-25T02:54:33.000",
          "2005-06-15T23:19:16.000",
          "2005-07-10T04:27:45.000",
          "2005-07-31T12:06:41.000",
          "2005-08-19T12:30:04.000"
         ],
         "return_date": [
          "2005-05-28T23:40:33.000",
          "2005-06-18T19:24:16.000",
          "2005-07-17T10:11:45.000",
          "2005-08-02T14:30:41.000",
          "2005-08-23T13:35:04.000"
         ],
         "amount": [
          2.99,
          2.99,
          2.99,
          2.99,
          2.99
         ],
         "release_year": [
          2005,
          2005,
          2005,
          2005,
          2005
         ],
         "rental_rate": [
          2.99,
          2.99,
          2.99,
          2.99,
          2.99
         ],
         "length": [
          126,
          126,
          126,
          126,
          126
         ],
         "replacement_cost": [
          16.99,
          16.99,
          16.99,
          16.99,
          16.99
         ],
         "special_features": [
          "{Trailers,\"Behind the Scenes\"}",
          "{Trailers,\"Behind the Scenes\"}",
          "{Trailers,\"Behind the Scenes\"}",
          "{Trailers,\"Behind the Scenes\"}",
          "{Trailers,\"Behind the Scenes\"}"
         ],
         "NC-17": [
          0,
          0,
          0,
          0,
          0
         ],
         "PG": [
          0,
          0,
          0,
          0,
          0
         ],
         "PG-13": [
          0,
          0,
          0,
          0,
          0
         ],
         "R": [
          1,
          1,
          1,
          1,
          1
         ],
         "amount_2": [
          8.9401,
          8.9401,
          8.9401,
          8.9401,
          8.9401
         ],
         "length_2": [
          15876,
          15876,
          15876,
          15876,
          15876
         ],
         "rental_rate_2": [
          8.9401,
          8.9401,
          8.9401,
          8.9401,
          8.9401
         ],
         "rental_length_days": [
          3,
          2,
          7,
          2,
          4
         ]
        }
       },
       "total_rows": 5,
       "truncation_type": null
      },
      "text/plain": "                rental_date  ... rental_length_days\n0 2005-05-25 02:54:33+00:00  ...                  3\n1 2005-06-15 23:19:16+00:00  ...                  2\n2 2005-07-10 04:27:45+00:00  ...                  7\n3 2005-07-31 12:06:41+00:00  ...                  2\n4 2005-08-19 12:30:04+00:00  ...                  4\n\n[5 rows x 16 columns]",
      "text/html": "<div>\n<style scoped>\n    .dataframe tbody tr th:only-of-type {\n        vertical-align: middle;\n    }\n\n    .dataframe tbody tr th {\n        vertical-align: top;\n    }\n\n    .dataframe thead th {\n        text-align: right;\n    }\n</style>\n<table border=\"1\" class=\"dataframe\">\n  <thead>\n    <tr style=\"text-align: right;\">\n      <th></th>\n      <th>rental_date</th>\n      <th>return_date</th>\n      <th>amount</th>\n      <th>release_year</th>\n      <th>rental_rate</th>\n      <th>length</th>\n      <th>replacement_cost</th>\n      <th>special_features</th>\n      <th>NC-17</th>\n      <th>PG</th>\n      <th>PG-13</th>\n      <th>R</th>\n      <th>amount_2</th>\n      <th>length_2</th>\n      <th>rental_rate_2</th>\n      <th>rental_length_days</th>\n    </tr>\n  </thead>\n  <tbody>\n    <tr>\n      <th>0</th>\n      <td>2005-05-25 02:54:33+00:00</td>\n      <td>2005-05-28 23:40:33+00:00</td>\n      <td>2.99</td>\n      <td>2005.0</td>\n      <td>2.99</td>\n      <td>126.0</td>\n      <td>16.99</td>\n      <td>{Trailers,\"Behind the Scenes\"}</td>\n      <td>0</td>\n      <td>0</td>\n      <td>0</td>\n      <td>1</td>\n      <td>8.9401</td>\n      <td>15876.0</td>\n      <td>8.9401</td>\n      <td>3</td>\n    </tr>\n    <tr>\n      <th>1</th>\n      <td>2005-06-15 23:19:16+00:00</td>\n      <td>2005-06-18 19:24:16+00:00</td>\n      <td>2.99</td>\n      <td>2005.0</td>\n      <td>2.99</td>\n      <td>126.0</td>\n      <td>16.99</td>\n      <td>{Trailers,\"Behind the Scenes\"}</td>\n      <td>0</td>\n      <td>0</td>\n      <td>0</td>\n      <td>1</td>\n      <td>8.9401</td>\n      <td>15876.0</td>\n      <td>8.9401</td>\n      <td>2</td>\n    </tr>\n    <tr>\n      <th>2</th>\n      <td>2005-07-10 04:27:45+00:00</td>\n      <td>2005-07-17 10:11:45+00:00</td>\n      <td>2.99</td>\n      <td>2005.0</td>\n      <td>2.99</td>\n      <td>126.0</td>\n      <td>16.99</td>\n      <td>{Trailers,\"Behind the Scenes\"}</td>\n      <td>0</td>\n      <td>0</td>\n      <td>0</td>\n      <td>1</td>\n      <td>8.9401</td>\n      <td>15876.0</td>\n      <td>8.9401</td>\n      <td>7</td>\n    </tr>\n    <tr>\n      <th>3</th>\n      <td>2005-07-31 12:06:41+00:00</td>\n      <td>2005-08-02 14:30:41+00:00</td>\n      <td>2.99</td>\n      <td>2005.0</td>\n      <td>2.99</td>\n      <td>126.0</td>\n      <td>16.99</td>\n      <td>{Trailers,\"Behind the Scenes\"}</td>\n      <td>0</td>\n      <td>0</td>\n      <td>0</td>\n      <td>1</td>\n      <td>8.9401</td>\n      <td>15876.0</td>\n      <td>8.9401</td>\n      <td>2</td>\n    </tr>\n    <tr>\n      <th>4</th>\n      <td>2005-08-19 12:30:04+00:00</td>\n      <td>2005-08-23 13:35:04+00:00</td>\n      <td>2.99</td>\n      <td>2005.0</td>\n      <td>2.99</td>\n      <td>126.0</td>\n      <td>16.99</td>\n      <td>{Trailers,\"Behind the Scenes\"}</td>\n      <td>0</td>\n      <td>0</td>\n      <td>0</td>\n      <td>1</td>\n      <td>8.9401</td>\n      <td>15876.0</td>\n      <td>8.9401</td>\n      <td>4</td>\n    </tr>\n  </tbody>\n</table>\n</div>"
     },
     "metadata": {},
     "execution_count": 147
    }
   ]
  },
  {
   "source": [
    "Creating dummy variables"
   ],
   "metadata": {},
   "cell_type": "markdown",
   "id": "459955e4-9e22-41ad-a211-2869c21e18e8"
  },
  {
   "source": [
    "df[\"deleted_scenes\"] = df[\"special_features\"].apply(lambda x: 1 if 'Deleted Scenes' in x else 0)\n",
    "df[\"behind_the_scenes\"] = df[\"special_features\"].apply(lambda x: 1 if 'Behind the Scenes' in x else 0)\n",
    "df.head()"
   ],
   "metadata": {
    "executionCancelledAt": null,
    "executionTime": 56,
    "lastExecutedAt": 1705038381336,
    "lastScheduledRunId": null,
    "lastSuccessfullyExecutedCode": "df[\"deleted_scenes\"] = df[\"special_features\"].apply(lambda x: 1 if 'Deleted Scenes' in x else 0)\ndf[\"behind_the_scenes\"] = df[\"special_features\"].apply(lambda x: 1 if 'Behind the Scenes' in x else 0)\ndf.head()",
    "outputsMetadata": {
     "0": {
      "height": 213,
      "type": "dataFrame"
     }
    }
   },
   "cell_type": "code",
   "id": "9544d378-c354-43e8-94a0-2cf3d7901bc9",
   "execution_count": 148,
   "outputs": [
    {
     "output_type": "execute_result",
     "data": {
      "application/com.datacamp.data-table.v2+json": {
       "table": {
        "schema": {
         "fields": [
          {
           "name": "index",
           "type": "integer"
          },
          {
           "name": "rental_date",
           "type": "datetime",
           "tz": "UTC"
          },
          {
           "name": "return_date",
           "type": "datetime",
           "tz": "UTC"
          },
          {
           "name": "amount",
           "type": "number"
          },
          {
           "name": "release_year",
           "type": "number"
          },
          {
           "name": "rental_rate",
           "type": "number"
          },
          {
           "name": "length",
           "type": "number"
          },
          {
           "name": "replacement_cost",
           "type": "number"
          },
          {
           "name": "special_features",
           "type": "string"
          },
          {
           "name": "NC-17",
           "type": "integer"
          },
          {
           "name": "PG",
           "type": "integer"
          },
          {
           "name": "PG-13",
           "type": "integer"
          },
          {
           "name": "R",
           "type": "integer"
          },
          {
           "name": "amount_2",
           "type": "number"
          },
          {
           "name": "length_2",
           "type": "number"
          },
          {
           "name": "rental_rate_2",
           "type": "number"
          },
          {
           "name": "rental_length_days",
           "type": "integer"
          },
          {
           "name": "deleted_scenes",
           "type": "integer"
          },
          {
           "name": "behind_the_scenes",
           "type": "integer"
          }
         ],
         "primaryKey": [
          "index"
         ],
         "pandas_version": "1.4.0"
        },
        "data": {
         "index": [
          0,
          1,
          2,
          3,
          4
         ],
         "rental_date": [
          "2005-05-25T02:54:33.000",
          "2005-06-15T23:19:16.000",
          "2005-07-10T04:27:45.000",
          "2005-07-31T12:06:41.000",
          "2005-08-19T12:30:04.000"
         ],
         "return_date": [
          "2005-05-28T23:40:33.000",
          "2005-06-18T19:24:16.000",
          "2005-07-17T10:11:45.000",
          "2005-08-02T14:30:41.000",
          "2005-08-23T13:35:04.000"
         ],
         "amount": [
          2.99,
          2.99,
          2.99,
          2.99,
          2.99
         ],
         "release_year": [
          2005,
          2005,
          2005,
          2005,
          2005
         ],
         "rental_rate": [
          2.99,
          2.99,
          2.99,
          2.99,
          2.99
         ],
         "length": [
          126,
          126,
          126,
          126,
          126
         ],
         "replacement_cost": [
          16.99,
          16.99,
          16.99,
          16.99,
          16.99
         ],
         "special_features": [
          "{Trailers,\"Behind the Scenes\"}",
          "{Trailers,\"Behind the Scenes\"}",
          "{Trailers,\"Behind the Scenes\"}",
          "{Trailers,\"Behind the Scenes\"}",
          "{Trailers,\"Behind the Scenes\"}"
         ],
         "NC-17": [
          0,
          0,
          0,
          0,
          0
         ],
         "PG": [
          0,
          0,
          0,
          0,
          0
         ],
         "PG-13": [
          0,
          0,
          0,
          0,
          0
         ],
         "R": [
          1,
          1,
          1,
          1,
          1
         ],
         "amount_2": [
          8.9401,
          8.9401,
          8.9401,
          8.9401,
          8.9401
         ],
         "length_2": [
          15876,
          15876,
          15876,
          15876,
          15876
         ],
         "rental_rate_2": [
          8.9401,
          8.9401,
          8.9401,
          8.9401,
          8.9401
         ],
         "rental_length_days": [
          3,
          2,
          7,
          2,
          4
         ],
         "deleted_scenes": [
          0,
          0,
          0,
          0,
          0
         ],
         "behind_the_scenes": [
          1,
          1,
          1,
          1,
          1
         ]
        }
       },
       "total_rows": 5,
       "truncation_type": null
      },
      "text/plain": "                rental_date  ... behind_the_scenes\n0 2005-05-25 02:54:33+00:00  ...                 1\n1 2005-06-15 23:19:16+00:00  ...                 1\n2 2005-07-10 04:27:45+00:00  ...                 1\n3 2005-07-31 12:06:41+00:00  ...                 1\n4 2005-08-19 12:30:04+00:00  ...                 1\n\n[5 rows x 18 columns]",
      "text/html": "<div>\n<style scoped>\n    .dataframe tbody tr th:only-of-type {\n        vertical-align: middle;\n    }\n\n    .dataframe tbody tr th {\n        vertical-align: top;\n    }\n\n    .dataframe thead th {\n        text-align: right;\n    }\n</style>\n<table border=\"1\" class=\"dataframe\">\n  <thead>\n    <tr style=\"text-align: right;\">\n      <th></th>\n      <th>rental_date</th>\n      <th>return_date</th>\n      <th>amount</th>\n      <th>release_year</th>\n      <th>rental_rate</th>\n      <th>length</th>\n      <th>replacement_cost</th>\n      <th>special_features</th>\n      <th>NC-17</th>\n      <th>PG</th>\n      <th>PG-13</th>\n      <th>R</th>\n      <th>amount_2</th>\n      <th>length_2</th>\n      <th>rental_rate_2</th>\n      <th>rental_length_days</th>\n      <th>deleted_scenes</th>\n      <th>behind_the_scenes</th>\n    </tr>\n  </thead>\n  <tbody>\n    <tr>\n      <th>0</th>\n      <td>2005-05-25 02:54:33+00:00</td>\n      <td>2005-05-28 23:40:33+00:00</td>\n      <td>2.99</td>\n      <td>2005.0</td>\n      <td>2.99</td>\n      <td>126.0</td>\n      <td>16.99</td>\n      <td>{Trailers,\"Behind the Scenes\"}</td>\n      <td>0</td>\n      <td>0</td>\n      <td>0</td>\n      <td>1</td>\n      <td>8.9401</td>\n      <td>15876.0</td>\n      <td>8.9401</td>\n      <td>3</td>\n      <td>0</td>\n      <td>1</td>\n    </tr>\n    <tr>\n      <th>1</th>\n      <td>2005-06-15 23:19:16+00:00</td>\n      <td>2005-06-18 19:24:16+00:00</td>\n      <td>2.99</td>\n      <td>2005.0</td>\n      <td>2.99</td>\n      <td>126.0</td>\n      <td>16.99</td>\n      <td>{Trailers,\"Behind the Scenes\"}</td>\n      <td>0</td>\n      <td>0</td>\n      <td>0</td>\n      <td>1</td>\n      <td>8.9401</td>\n      <td>15876.0</td>\n      <td>8.9401</td>\n      <td>2</td>\n      <td>0</td>\n      <td>1</td>\n    </tr>\n    <tr>\n      <th>2</th>\n      <td>2005-07-10 04:27:45+00:00</td>\n      <td>2005-07-17 10:11:45+00:00</td>\n      <td>2.99</td>\n      <td>2005.0</td>\n      <td>2.99</td>\n      <td>126.0</td>\n      <td>16.99</td>\n      <td>{Trailers,\"Behind the Scenes\"}</td>\n      <td>0</td>\n      <td>0</td>\n      <td>0</td>\n      <td>1</td>\n      <td>8.9401</td>\n      <td>15876.0</td>\n      <td>8.9401</td>\n      <td>7</td>\n      <td>0</td>\n      <td>1</td>\n    </tr>\n    <tr>\n      <th>3</th>\n      <td>2005-07-31 12:06:41+00:00</td>\n      <td>2005-08-02 14:30:41+00:00</td>\n      <td>2.99</td>\n      <td>2005.0</td>\n      <td>2.99</td>\n      <td>126.0</td>\n      <td>16.99</td>\n      <td>{Trailers,\"Behind the Scenes\"}</td>\n      <td>0</td>\n      <td>0</td>\n      <td>0</td>\n      <td>1</td>\n      <td>8.9401</td>\n      <td>15876.0</td>\n      <td>8.9401</td>\n      <td>2</td>\n      <td>0</td>\n      <td>1</td>\n    </tr>\n    <tr>\n      <th>4</th>\n      <td>2005-08-19 12:30:04+00:00</td>\n      <td>2005-08-23 13:35:04+00:00</td>\n      <td>2.99</td>\n      <td>2005.0</td>\n      <td>2.99</td>\n      <td>126.0</td>\n      <td>16.99</td>\n      <td>{Trailers,\"Behind the Scenes\"}</td>\n      <td>0</td>\n      <td>0</td>\n      <td>0</td>\n      <td>1</td>\n      <td>8.9401</td>\n      <td>15876.0</td>\n      <td>8.9401</td>\n      <td>4</td>\n      <td>0</td>\n      <td>1</td>\n    </tr>\n  </tbody>\n</table>\n</div>"
     },
     "metadata": {},
     "execution_count": 148
    }
   ]
  },
  {
   "source": [
    "Instantiating X and y"
   ],
   "metadata": {},
   "cell_type": "markdown",
   "id": "728ec2af-cfad-4c0f-9eb8-0fb39f597fed"
  },
  {
   "source": [
    "cols_x = [\"amount\", \"release_year\", \"rental_rate\", \"length\", \"replacement_cost\", \"NC-17\", \"PG\", \"PG-13\", \"R\", \"amount_2\", \"length_2\", \"rental_rate_2\", \"deleted_scenes\", \"behind_the_scenes\"]\n",
    "X = df[cols_x]\n",
    "y = df[\"rental_length_days\"]"
   ],
   "metadata": {
    "executionCancelledAt": null,
    "executionTime": 51,
    "lastExecutedAt": 1705038381387,
    "lastScheduledRunId": null,
    "lastSuccessfullyExecutedCode": "cols_x = [\"amount\", \"release_year\", \"rental_rate\", \"length\", \"replacement_cost\", \"NC-17\", \"PG\", \"PG-13\", \"R\", \"amount_2\", \"length_2\", \"rental_rate_2\", \"deleted_scenes\", \"behind_the_scenes\"]\nX = df[cols_x]\ny = df[\"rental_length_days\"]"
   },
   "cell_type": "code",
   "id": "32478669-e3c5-4f78-8581-9dc7d32685c3",
   "execution_count": 149,
   "outputs": []
  },
  {
   "source": [
    "Splitting the data"
   ],
   "metadata": {},
   "cell_type": "markdown",
   "id": "089c331f-7809-4db7-be63-9d2ea584d87c"
  },
  {
   "source": [
    "X_train, X_test, y_train, y_test = train_test_split(X, y, random_state=9, test_size=0.2)"
   ],
   "metadata": {
    "executionCancelledAt": null,
    "executionTime": 47,
    "lastExecutedAt": 1705038381435,
    "lastScheduledRunId": null,
    "lastSuccessfullyExecutedCode": "X_train, X_test, y_train, y_test = train_test_split(X, y, random_state=9, test_size=0.2)"
   },
   "cell_type": "code",
   "id": "7fe5da59-7f50-4a03-8f07-ea5a9e8a09a3",
   "execution_count": 150,
   "outputs": []
  },
  {
   "source": [
    "Performing feature selection"
   ],
   "metadata": {},
   "cell_type": "markdown",
   "id": "0554b8b4-14b6-4e8e-8591-d9a4dcb78904"
  },
  {
   "source": [
    "from sklearn.linear_model import Lasso\n",
    "import matplotlib.pyplot as plt\n",
    "\n",
    "lasso = Lasso(alpha=0.1, random_state=9)\n",
    "lasso_coef = lasso.fit(X_train, y_train).coef_\n",
    "plt.barh(cols_x, lasso_coef)\n",
    "plt.xticks(rotation=45)\n",
    "plt.show()"
   ],
   "metadata": {
    "executionCancelledAt": null,
    "executionTime": 528,
    "lastExecutedAt": 1705038381964,
    "lastScheduledRunId": null,
    "lastSuccessfullyExecutedCode": "from sklearn.linear_model import Lasso\nimport matplotlib.pyplot as plt\n\nlasso = Lasso(alpha=0.1, random_state=9)\nlasso_coef = lasso.fit(X_train, y_train).coef_\nplt.barh(cols_x, lasso_coef)\nplt.xticks(rotation=45)\nplt.show()",
    "outputsMetadata": {
     "0": {
      "height": 97,
      "type": "stream"
     }
    }
   },
   "cell_type": "code",
   "id": "5d8ee702-8641-446a-b4f2-ff4743ff5a99",
   "execution_count": 151,
   "outputs": [
    {
     "output_type": "display_data",
     "data": {
      "text/plain": "<Figure size 640x480 with 1 Axes>",
      "image/png": "[encoded data removed]"
     },
     "metadata": {}
    }
   ]
  },
  {
   "source": [
    "We remove the non-important features"
   ],
   "metadata": {},
   "cell_type": "markdown",
   "id": "382ac8c1-5b67-480b-8f88-583bbf1322c1"
  },
  {
   "source": [
    "X_train = X_train[list(X_train.columns[lasso_coef!=0])]\n",
    "X_test = X_test[list(X_test.columns[lasso_coef!=0])]\n",
    "print(X_train.columns)"
   ],
   "metadata": {
    "executionCancelledAt": null,
    "executionTime": null,
    "lastExecutedAt": null,
    "lastScheduledRunId": null,
    "lastSuccessfullyExecutedCode": null,
    "outputsMetadata": {
     "0": {
      "height": 37,
      "type": "stream"
     }
    }
   },
   "cell_type": "code",
   "id": "f85a052a-4b7a-453a-a423-9eb28b51565b",
   "execution_count": 152,
   "outputs": [
    {
     "output_type": "stream",
     "name": "stdout",
     "text": "Index(['amount', 'replacement_cost', 'amount_2', 'length_2', 'rental_rate_2'], dtype='object')\n"
    }
   ]
  },
  {
   "source": [
    "Choosing the best model"
   ],
   "metadata": {},
   "cell_type": "markdown",
   "id": "b3d575e2-b0ee-4338-99b7-062965afba63"
  },
  {
   "source": [
    "from sklearn.tree import DecisionTreeRegressor\n",
    "from sklearn.model_selection import GridSearchCV\n",
    "\n",
    "dtr=DecisionTreeRegressor(random_state=9)\n",
    "params_dtr = {\n",
    "\t'max_depth': [3,4,5,6],\n",
    "\t'min_samples_leaf':[0.04, 0.06, 0.08],\n",
    "\t'max_features': [0.2, 0.4, 0.6, 0.8]\n",
    "}\n",
    "grid_dtr = GridSearchCV(estimator=dtr, \n",
    "                       param_grid=params_dtr,\n",
    "                       cv=5,\n",
    "                       scoring=\"neg_mean_squared_error\",\n",
    "                       n_jobs=-1)\n",
    "grid_dtr.fit(X_train, y_train)\n",
    "\n",
    "best_hyperparams = grid_dtr.best_params_\n",
    "print(f'Best hyperparameters: {best_hyperparams}')\n",
    "\n",
    "best_model = grid_dtr.best_estimator_\n",
    "y_pred = best_model.predict(X_test)\n",
    "best_mse = mean_squared_error(y_test, y_pred)\n",
    "print(f'Best mse: {best_mse}')"
   ],
   "metadata": {
    "executionCancelledAt": null,
    "executionTime": 782,
    "lastExecutedAt": 1705038382798,
    "lastScheduledRunId": null,
    "lastSuccessfullyExecutedCode": "from sklearn.tree import DecisionTreeRegressor\nfrom sklearn.model_selection import GridSearchCV\n\ndtr=DecisionTreeRegressor(random_state=9)\nparams_dtr = {\n\t'max_depth': [3,4,5,6],\n\t'min_samples_leaf':[0.04, 0.06, 0.08],\n\t'max_features': [0.2, 0.4, 0.6, 0.8]\n}\ngrid_dtr = GridSearchCV(estimator=dtr, \n                       param_grid=params_dtr,\n                       cv=5,\n                       scoring=\"neg_mean_squared_error\",\n                       n_jobs=-1)\ngrid_dtr.fit(X_train, y_train)\n\nbest_hyperparams = grid_dtr.best_params_\nprint(f'Best hyperparameters: {best_hyperparams}')\n\nbest_model = grid_dtr.best_estimator_\ny_pred = best_model.predict(X_test)\nbest_mse = mean_squared_error(y_test, y_pred)\nprint(f'Best mse: {best_mse}')",
    "outputsMetadata": {
     "0": {
      "height": 57,
      "type": "stream"
     }
    }
   },
   "cell_type": "code",
   "id": "b0940b05-c732-4e48-8d09-101df17f319f",
   "execution_count": 153,
   "outputs": [
    {
     "output_type": "stream",
     "name": "stdout",
     "text": "Best hyperparameters: {'max_depth': 6, 'max_features': 0.6, 'min_samples_leaf': 0.04}\nBest mse: 2.552446391337973\n"
    }
   ]
  }
 ],
 "metadata": {
  "colab": {
   "name": "Welcome to DataCamp Workspaces.ipynb",
   "provenance": []
  },
  "kernelspec": {
   "display_name": "Python 3 (ipykernel)",
   "language": "python",
   "name": "python3"
  },
  "language_info": {
   "codemirror_mode": {
    "name": "ipython",
    "version": 3
   },
   "file_extension": ".py",
   "mimetype": "text/x-python",
   "name": "python",
   "nbconvert_exporter": "python",
   "pygments_lexer": "ipython3",
   "version": "3.8.10"
  }
 },
 "nbformat": 4,
 "nbformat_minor": 5
}
