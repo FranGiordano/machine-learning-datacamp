{
 "cells": [
  {
   "source": [
    "# Sowing Success: How Machine Learning Helps Farmers Select the Best Crops\n",
    "\n",
    "Measuring essential soil metrics such as nitrogen, phosphorous, potassium levels, and pH value is an important aspect of assessing soil condition. However, it can be an expensive and time-consuming process, which can cause farmers to prioritize which metrics to measure based on their budget constraints.\n",
    "\n",
    "Farmers have various options when it comes to deciding which crop to plant each season. Their primary objective is to maximize the yield of their crops, taking into account different factors. One crucial factor that affects crop growth is the condition of the soil in the field, which can be assessed by measuring basic elements such as nitrogen and potassium levels. Each crop has an ideal soil condition that ensures optimal growth and maximum yield.\n",
    "\n",
    "A farmer reached out to you as a machine learning expert for assistance in selecting the best crop for his field. They've provided you with a dataset called `soil_measures.csv`, which contains:\n",
    "\n",
    "- `\"N\"`: Nitrogen content ratio in the soil\n",
    "- `\"P\"`: Phosphorous content ratio in the soil\n",
    "- `\"K\"`: Potassium content ratio in the soil\n",
    "- `\"pH\"` value of the soil\n",
    "- `\"crop\"`: categorical values that contain various crops (target variable).\n",
    "\n",
    "Each row in this dataset represents various measures of the soil in a particular field. Based on these measurements, the crop specified in the `\"crop\"` column is the optimal choice for that field.  \n",
    "\n",
    "In this project, you will apply machine learning to build a multi-class classification model to predict the type of `\"crop\"`, while using techniques to avoid multicollinearity, which is a concept where two or more features are highly correlated."
   ],
   "metadata": {},
   "id": "d3d001b0-2e2f-4b58-8442-99520bad831f",
   "cell_type": "markdown"
  },
  {
   "source": [
    "# All required libraries are imported here for you.\n",
    "import matplotlib.pyplot as plt\n",
    "import pandas as pd\n",
    "from sklearn.linear_model import LogisticRegression\n",
    "from sklearn.model_selection import train_test_split\n",
    "import seaborn as sns\n",
    "from sklearn.metrics import f1_score\n",
    "\n",
    "# Load the dataset\n",
    "crops = pd.read_csv(\"../datasets/soil_measures.csv\")\n",
    "\n",
    "# Write your code here\n",
    "crops.head()"
   ],
   "metadata": {
    "id": "bA5ajAmk7XH6",
    "executionTime": 84,
    "lastSuccessfullyExecutedCode": "# All required libraries are imported here for you.\nimport matplotlib.pyplot as plt\nimport pandas as pd\nfrom sklearn.linear_model import LogisticRegression\nfrom sklearn.model_selection import train_test_split\nimport seaborn as sns\nfrom sklearn.metrics import f1_score\n\n# Load the dataset\ncrops = pd.read_csv(\"soil_measures.csv\")\n\n# Write your code here\ncrops.head()",
    "executionCancelledAt": null,
    "lastExecutedAt": 1704907242196,
    "lastScheduledRunId": null,
    "outputsMetadata": {
     "0": {
      "height": 198,
      "type": "dataFrame"
     }
    },
    "ExecuteTime": {
     "end_time": "2024-01-10T17:22:53.252102500Z",
     "start_time": "2024-01-10T17:22:53.250019200Z"
    }
   },
   "id": "d0eb4f16-5a99-460d-a5ba-706b7ef0bbe7",
   "cell_type": "code",
   "execution_count": null,
   "outputs": []
  },
  {
   "source": [
    "Info of the dataset"
   ],
   "metadata": {},
   "cell_type": "markdown",
   "id": "bea7502a-8240-44c2-8f70-015d3e188717"
  },
  {
   "source": [
    "crops.info()"
   ],
   "metadata": {
    "executionCancelledAt": null,
    "executionTime": 50,
    "lastExecutedAt": 1704907242246,
    "lastScheduledRunId": null,
    "lastSuccessfullyExecutedCode": "crops.info()",
    "outputsMetadata": {
     "0": {
      "height": 257,
      "type": "stream"
     }
    },
    "ExecuteTime": {
     "start_time": "2024-01-10T17:22:53.251116400Z"
    }
   },
   "cell_type": "code",
   "id": "14468d15-94ef-4765-ba8a-bb1288f25ed0",
   "execution_count": null,
   "outputs": []
  },
  {
   "source": [
    "crops[\"crop\"].value_counts()"
   ],
   "metadata": {
    "executionCancelledAt": null,
    "executionTime": 52,
    "lastExecutedAt": 1704907242298,
    "lastScheduledRunId": null,
    "lastSuccessfullyExecutedCode": "crops[\"crop\"].value_counts()",
    "ExecuteTime": {
     "end_time": "2024-01-10T17:22:53.254102400Z",
     "start_time": "2024-01-10T17:22:53.253602200Z"
    }
   },
   "cell_type": "code",
   "id": "da56485f-7c27-4ab4-93ee-f3ab44dd00a7",
   "execution_count": null,
   "outputs": []
  },
  {
   "source": [
    "Splitting the data"
   ],
   "metadata": {},
   "cell_type": "markdown",
   "id": "fbce5eea-ce31-45fe-8525-c2d5a9db84de"
  },
  {
   "source": [
    "X = crops.drop('crop', axis=1)\n",
    "y = crops[\"crop\"]\n",
    "X_train, X_test, y_train, y_test = train_test_split(X, y, test_size=0.2, random_state=42)"
   ],
   "metadata": {
    "executionCancelledAt": null,
    "executionTime": 56,
    "lastExecutedAt": 1704907242354,
    "lastScheduledRunId": null,
    "lastSuccessfullyExecutedCode": "X = crops.drop('crop', axis=1)\ny = crops[\"crop\"]\nX_train, X_test, y_train, y_test = train_test_split(X, y, test_size=0.2, random_state=42)",
    "outputsMetadata": {
     "0": {
      "height": 323,
      "type": "dataFrame"
     }
    },
    "ExecuteTime": {
     "end_time": "2024-01-10T17:22:53.256322500Z",
     "start_time": "2024-01-10T17:22:53.255822500Z"
    }
   },
   "cell_type": "code",
   "id": "5d63b4f2-fc20-4733-b078-50ae3aac5d44",
   "execution_count": null,
   "outputs": []
  },
  {
   "source": [
    "Checking the f1_score for each feature"
   ],
   "metadata": {},
   "cell_type": "markdown",
   "id": "acab3e29-12f8-4a33-8fdd-362f8c435696"
  },
  {
   "source": [
    "features = (crops.drop('crop', axis=1).columns)\n",
    "results = {}\n",
    "\n",
    "for feature in features:\n",
    "    logreg = LogisticRegression(max_iter=2000, multi_class=\"multinomial\")\n",
    "    logreg.fit(X_train[[feature]], y_train)\n",
    "    y_pred = logreg.predict(X_test[[feature]])\n",
    "    results[feature] = f1_score(y_test, y_pred, average='weighted')\n",
    "    \n",
    "for feature, result in results.items():\n",
    "    print(f'F1_score for {feature}: {result}')"
   ],
   "metadata": {
    "executionCancelledAt": null,
    "executionTime": 59488,
    "lastExecutedAt": 1704907301844,
    "lastScheduledRunId": null,
    "lastSuccessfullyExecutedCode": "features = (crops.drop('crop', axis=1).columns)\nresults = {}\n\nfor feature in features:\n    logreg = LogisticRegression(max_iter=2000, multi_class=\"multinomial\")\n    logreg.fit(X_train[[feature]], y_train)\n    y_pred = logreg.predict(X_test[[feature]])\n    results[feature] = f1_score(y_test, y_pred, average='weighted')\n    \nfor feature, result in results.items():\n    print(f'F1_score for {feature}: {result}')",
    "outputsMetadata": {
     "0": {
      "height": 97,
      "type": "stream"
     }
    },
    "ExecuteTime": {
     "start_time": "2024-01-10T17:22:53.259043400Z"
    }
   },
   "cell_type": "code",
   "id": "62bd9bc2-2bed-4686-9de3-e9139a16e3bc",
   "execution_count": null,
   "outputs": []
  },
  {
   "source": [
    "Checking correlation between features"
   ],
   "metadata": {},
   "cell_type": "markdown",
   "id": "8d48eb03-1add-4d8d-9eff-d39a29c741b9"
  },
  {
   "source": [
    "sns.heatmap(crops.corr(), annot=True, cmap=\"YlGnBu\")"
   ],
   "metadata": {
    "executionCancelledAt": null,
    "executionTime": 301,
    "lastExecutedAt": 1704907302145,
    "lastScheduledRunId": null,
    "lastSuccessfullyExecutedCode": "sns.heatmap(crops.corr(), annot=True, cmap=\"YlGnBu\")",
    "ExecuteTime": {
     "start_time": "2024-01-10T17:22:53.261424400Z"
    }
   },
   "cell_type": "code",
   "id": "ded7b6a7-51da-49e6-b404-3a6e7fe8c20d",
   "execution_count": null,
   "outputs": []
  },
  {
   "source": [
    "There is high correlation between P and K, and K performs better than P in the Logistic Regression model. \n",
    "We will remove this column, and train a new model."
   ],
   "metadata": {},
   "cell_type": "markdown",
   "id": "d9a71604-4a59-4476-bd35-657391d53431"
  },
  {
   "source": [
    "crops = crops.drop([\"P\"], axis=1)\n",
    "final_features = list(crops.drop(\"crop\", axis=1).columns)\n",
    "\n",
    "X = crops.drop(\"crop\", axis=1)\n",
    "y = crops[\"crop\"]\n",
    "\n",
    "X_train, X_test, y_train, y_test = train_test_split(X, y, test_size=0.2, random_state=42)\n",
    "\n",
    "log_reg = LogisticRegression(max_iter=2000, multi_class='multinomial')\n",
    "log_reg.fit(X_train, y_train)\n",
    "y_pred = log_reg.predict(X_test)\n",
    "model_performance = f1_score(y_test, y_pred, average='weighted')\n",
    "\n",
    "print(f'Final parameters: {log_reg.best_params}')\n",
    "print(f'Final features: {final_features}')\n",
    "print(f'Model performance: {model_performance}')"
   ],
   "metadata": {
    "executionCancelledAt": null,
    "executionTime": 1169,
    "lastExecutedAt": 1704907310143,
    "lastScheduledRunId": null,
    "lastSuccessfullyExecutedCode": "crops = crops.drop([\"P\"], axis=1)\nfinal_features = list(crops.drop(\"crop\", axis=1).columns)\n\nX = crops.drop(\"crop\", axis=1)\ny = crops[\"crop\"]\n\nX_train, X_test, y_train, y_test = train_test_split(X, y, test_size=0.2, random_state=42)\n\nlog_reg = LogisticRegression(max_iter=2000, multi_class='multinomial')\nlog_reg.fit(X_train, y_train)\ny_pred = log_reg.predict(X_test)\nmodel_performance = f1_score(y_test, y_pred, average='weighted')\n\nprint(f'Final parameters: {log_reg.best_params}')\nprint(f'Final features: {final_features}')\nprint(f'Model performance: {model_performance}')",
    "outputsMetadata": {
     "0": {
      "height": 57,
      "type": "stream"
     }
    },
    "ExecuteTime": {
     "start_time": "2024-01-10T17:22:53.263725500Z"
    }
   },
   "cell_type": "code",
   "id": "93a15779-57c4-468c-a3dc-d5a44fa2fa27",
   "execution_count": null,
   "outputs": []
  }
 ],
 "metadata": {
  "colab": {
   "name": "Welcome to DataCamp Workspaces.ipynb",
   "provenance": []
  },
  "kernelspec": {
   "display_name": "Python 3 (ipykernel)",
   "language": "python",
   "name": "python3"
  },
  "language_info": {
   "codemirror_mode": {
    "name": "ipython",
    "version": 3
   },
   "file_extension": ".py",
   "mimetype": "text/x-python",
   "name": "python",
   "nbconvert_exporter": "python",
   "pygments_lexer": "ipython3",
   "version": "3.8.10"
  }
 },
 "nbformat": 4,
 "nbformat_minor": 5
}
