{
 "cells": [
  {
   "cell_type": "markdown",
   "id": "ae089bdd-def7-4794-9feb-b9b594ac08c8",
   "metadata": {},
   "source": [
    "# Hypothesis Testing"
   ]
  },
  {
   "cell_type": "markdown",
   "id": "d768063f-b9c2-4f30-a526-a0a3f3d4bcff",
   "metadata": {},
   "source": [
    "Importing libraries and the dataset"
   ]
  },
  {
   "cell_type": "code",
   "execution_count": 1,
   "id": "initial_id",
   "metadata": {
    "ExecuteTime": {
     "end_time": "2024-01-11T05:07:51.964106100Z",
     "start_time": "2024-01-11T05:07:51.951152400Z"
    }
   },
   "outputs": [
    {
     "data": {
      "text/html": [
       "<div>\n",
       "<style scoped>\n",
       "    .dataframe tbody tr th:only-of-type {\n",
       "        vertical-align: middle;\n",
       "    }\n",
       "\n",
       "    .dataframe tbody tr th {\n",
       "        vertical-align: top;\n",
       "    }\n",
       "\n",
       "    .dataframe thead th {\n",
       "        text-align: right;\n",
       "    }\n",
       "</style>\n",
       "<table border=\"1\" class=\"dataframe\">\n",
       "  <thead>\n",
       "    <tr style=\"text-align: right;\">\n",
       "      <th></th>\n",
       "      <th>respondent</th>\n",
       "      <th>main_branch</th>\n",
       "      <th>hobbyist</th>\n",
       "      <th>age</th>\n",
       "      <th>age_1st_code</th>\n",
       "      <th>age_first_code_cut</th>\n",
       "      <th>comp_freq</th>\n",
       "      <th>comp_total</th>\n",
       "      <th>converted_comp</th>\n",
       "      <th>country</th>\n",
       "      <th>...</th>\n",
       "      <th>survey_length</th>\n",
       "      <th>trans</th>\n",
       "      <th>undergrad_major</th>\n",
       "      <th>webframe_desire_next_year</th>\n",
       "      <th>webframe_worked_with</th>\n",
       "      <th>welcome_change</th>\n",
       "      <th>work_week_hrs</th>\n",
       "      <th>years_code</th>\n",
       "      <th>years_code_pro</th>\n",
       "      <th>age_cat</th>\n",
       "    </tr>\n",
       "  </thead>\n",
       "  <tbody>\n",
       "    <tr>\n",
       "      <th>0</th>\n",
       "      <td>36.0</td>\n",
       "      <td>I am not primarily a developer, but I write co...</td>\n",
       "      <td>Yes</td>\n",
       "      <td>34.0</td>\n",
       "      <td>30.0</td>\n",
       "      <td>adult</td>\n",
       "      <td>Yearly</td>\n",
       "      <td>60000.0</td>\n",
       "      <td>77556.0</td>\n",
       "      <td>United Kingdom</td>\n",
       "      <td>...</td>\n",
       "      <td>Appropriate in length</td>\n",
       "      <td>No</td>\n",
       "      <td>Computer science, computer engineering, or sof...</td>\n",
       "      <td>Express;React.js</td>\n",
       "      <td>Express;React.js</td>\n",
       "      <td>Just as welcome now as I felt last year</td>\n",
       "      <td>40.0</td>\n",
       "      <td>4.0</td>\n",
       "      <td>3.0</td>\n",
       "      <td>At least 30</td>\n",
       "    </tr>\n",
       "    <tr>\n",
       "      <th>1</th>\n",
       "      <td>47.0</td>\n",
       "      <td>I am a developer by profession</td>\n",
       "      <td>Yes</td>\n",
       "      <td>53.0</td>\n",
       "      <td>10.0</td>\n",
       "      <td>child</td>\n",
       "      <td>Yearly</td>\n",
       "      <td>58000.0</td>\n",
       "      <td>74970.0</td>\n",
       "      <td>United Kingdom</td>\n",
       "      <td>...</td>\n",
       "      <td>Appropriate in length</td>\n",
       "      <td>No</td>\n",
       "      <td>A natural science (such as biology, chemistry,...</td>\n",
       "      <td>Flask;Spring</td>\n",
       "      <td>Flask;Spring</td>\n",
       "      <td>Just as welcome now as I felt last year</td>\n",
       "      <td>40.0</td>\n",
       "      <td>43.0</td>\n",
       "      <td>28.0</td>\n",
       "      <td>At least 30</td>\n",
       "    </tr>\n",
       "    <tr>\n",
       "      <th>2</th>\n",
       "      <td>69.0</td>\n",
       "      <td>I am a developer by profession</td>\n",
       "      <td>Yes</td>\n",
       "      <td>25.0</td>\n",
       "      <td>12.0</td>\n",
       "      <td>child</td>\n",
       "      <td>Yearly</td>\n",
       "      <td>550000.0</td>\n",
       "      <td>594539.0</td>\n",
       "      <td>France</td>\n",
       "      <td>...</td>\n",
       "      <td>Too short</td>\n",
       "      <td>No</td>\n",
       "      <td>Computer science, computer engineering, or sof...</td>\n",
       "      <td>Django;Flask</td>\n",
       "      <td>Django;Flask</td>\n",
       "      <td>Just as welcome now as I felt last year</td>\n",
       "      <td>40.0</td>\n",
       "      <td>13.0</td>\n",
       "      <td>3.0</td>\n",
       "      <td>Under 30</td>\n",
       "    </tr>\n",
       "    <tr>\n",
       "      <th>3</th>\n",
       "      <td>125.0</td>\n",
       "      <td>I am not primarily a developer, but I write co...</td>\n",
       "      <td>Yes</td>\n",
       "      <td>41.0</td>\n",
       "      <td>30.0</td>\n",
       "      <td>adult</td>\n",
       "      <td>Monthly</td>\n",
       "      <td>200000.0</td>\n",
       "      <td>2000000.0</td>\n",
       "      <td>United States</td>\n",
       "      <td>...</td>\n",
       "      <td>Appropriate in length</td>\n",
       "      <td>No</td>\n",
       "      <td>None</td>\n",
       "      <td>None</td>\n",
       "      <td>None</td>\n",
       "      <td>Just as welcome now as I felt last year</td>\n",
       "      <td>40.0</td>\n",
       "      <td>11.0</td>\n",
       "      <td>11.0</td>\n",
       "      <td>At least 30</td>\n",
       "    </tr>\n",
       "    <tr>\n",
       "      <th>4</th>\n",
       "      <td>147.0</td>\n",
       "      <td>I am not primarily a developer, but I write co...</td>\n",
       "      <td>No</td>\n",
       "      <td>28.0</td>\n",
       "      <td>15.0</td>\n",
       "      <td>adult</td>\n",
       "      <td>Yearly</td>\n",
       "      <td>50000.0</td>\n",
       "      <td>37816.0</td>\n",
       "      <td>Canada</td>\n",
       "      <td>...</td>\n",
       "      <td>Appropriate in length</td>\n",
       "      <td>No</td>\n",
       "      <td>Another engineering discipline (such as civil,...</td>\n",
       "      <td>None</td>\n",
       "      <td>Express;Flask</td>\n",
       "      <td>Just as welcome now as I felt last year</td>\n",
       "      <td>40.0</td>\n",
       "      <td>5.0</td>\n",
       "      <td>3.0</td>\n",
       "      <td>Under 30</td>\n",
       "    </tr>\n",
       "  </tbody>\n",
       "</table>\n",
       "<p>5 rows × 63 columns</p>\n",
       "</div>"
      ],
      "text/plain": [
       "   respondent                                        main_branch hobbyist  \\\n",
       "0        36.0  I am not primarily a developer, but I write co...      Yes   \n",
       "1        47.0                     I am a developer by profession      Yes   \n",
       "2        69.0                     I am a developer by profession      Yes   \n",
       "3       125.0  I am not primarily a developer, but I write co...      Yes   \n",
       "4       147.0  I am not primarily a developer, but I write co...       No   \n",
       "\n",
       "    age  age_1st_code age_first_code_cut comp_freq  comp_total  \\\n",
       "0  34.0          30.0              adult    Yearly     60000.0   \n",
       "1  53.0          10.0              child    Yearly     58000.0   \n",
       "2  25.0          12.0              child    Yearly    550000.0   \n",
       "3  41.0          30.0              adult   Monthly    200000.0   \n",
       "4  28.0          15.0              adult    Yearly     50000.0   \n",
       "\n",
       "   converted_comp         country  ...          survey_length trans  \\\n",
       "0         77556.0  United Kingdom  ...  Appropriate in length    No   \n",
       "1         74970.0  United Kingdom  ...  Appropriate in length    No   \n",
       "2        594539.0          France  ...              Too short    No   \n",
       "3       2000000.0   United States  ...  Appropriate in length    No   \n",
       "4         37816.0          Canada  ...  Appropriate in length    No   \n",
       "\n",
       "                                     undergrad_major  \\\n",
       "0  Computer science, computer engineering, or sof...   \n",
       "1  A natural science (such as biology, chemistry,...   \n",
       "2  Computer science, computer engineering, or sof...   \n",
       "3                                               None   \n",
       "4  Another engineering discipline (such as civil,...   \n",
       "\n",
       "  webframe_desire_next_year webframe_worked_with  \\\n",
       "0          Express;React.js     Express;React.js   \n",
       "1              Flask;Spring         Flask;Spring   \n",
       "2              Django;Flask         Django;Flask   \n",
       "3                      None                 None   \n",
       "4                      None        Express;Flask   \n",
       "\n",
       "                            welcome_change work_week_hrs years_code  \\\n",
       "0  Just as welcome now as I felt last year          40.0        4.0   \n",
       "1  Just as welcome now as I felt last year          40.0       43.0   \n",
       "2  Just as welcome now as I felt last year          40.0       13.0   \n",
       "3  Just as welcome now as I felt last year          40.0       11.0   \n",
       "4  Just as welcome now as I felt last year          40.0        5.0   \n",
       "\n",
       "  years_code_pro      age_cat  \n",
       "0            3.0  At least 30  \n",
       "1           28.0  At least 30  \n",
       "2            3.0     Under 30  \n",
       "3           11.0  At least 30  \n",
       "4            3.0     Under 30  \n",
       "\n",
       "[5 rows x 63 columns]"
      ]
     },
     "execution_count": 1,
     "metadata": {},
     "output_type": "execute_result"
    }
   ],
   "source": [
    "import pandas as pd\n",
    "import seaborn as sns\n",
    "import matplotlib.pyplot as plt\n",
    "import numpy as np\n",
    "df = pd.read_feather('../datasets/stack_overflow.feather')\n",
    "df.head()"
   ]
  },
  {
   "cell_type": "markdown",
   "id": "bd612035-002c-4f44-b1d8-0f3fd4606750",
   "metadata": {
    "collapsed": false,
    "jupyter": {
     "outputs_hidden": false
    }
   },
   "source": [
    "# Hypothesis with one sample\n",
    "\n",
    "A hypothesis is a statement about an unknown population parameter.\n",
    "\n",
    "A hypothesis test is a test of two competing hypotheses:\n",
    "\n",
    "* The null hypothesis (H0) is the existing idea.\n",
    "* The alternative hypothesis (HA) is the new \"challenger\" idea of the researcher.\n",
    "\n",
    "### Example 1\n",
    "\n",
    "**Step 1**: Defitinion of the null and alternative hypotheses based on a parameter (in this case the mean).\n",
    "* $H_0$: The proportion of data scientists starting programming as children is 35%\n",
    "* $H_A$: The proportion of data scientists starting programming as children is greater than 35%\n",
    "\n",
    "**Step 2**: Calculation of the z-score\n",
    "\n",
    "$$z = \\frac{\\text{value}-\\text{mean}}{\\text{standard deviation}} = \\frac{\\text{sample stat}-\\text{hypoth. param. value}}{\\text{standard error}}$$\n",
    "\n",
    "Where:\n",
    "\n",
    "$$\\text{standard error} = s_{\\text{bootstrap distribution}}$$"
   ]
  },
  {
   "cell_type": "code",
   "execution_count": 10,
   "id": "0b4e6eb9-1e86-4306-ae65-f84ea2a62c70",
   "metadata": {},
   "outputs": [
    {
     "name": "stdout",
     "output_type": "stream",
     "text": [
      "4.040952601350419\n"
     ]
    }
   ],
   "source": [
    "# Generating a bootstrap distribution\n",
    "comp_bootstrap_distribution = []\n",
    "for i in range(5000):\n",
    "    sample = df.sample(frac=1, replace=True)\n",
    "    sample_bool = sample[\"age_first_code_cut\"] == \"child\"\n",
    "    comp_bootstrap_distribution.append(np.mean(sample_bool))\n",
    "\n",
    "# Standard error - Standard deviation of the bootstrap distribution\n",
    "std_error = np.std(comp_bootstrap_distribution, ddof=1)\n",
    "\n",
    "# Mean of the sample\n",
    "proportion_child_sample = (df[\"age_first_code_cut\"] == \"child\").mean()\n",
    "\n",
    "# Hypothesized value from the null hypothesis\n",
    "proportion_child_hypothesis = 0.35\n",
    "\n",
    "# Z-score\n",
    "z_score = (proportion_child_sample - proportion_child_hypothesis) / std_error\n",
    "print(z_score)"
   ]
  },
  {
   "cell_type": "markdown",
   "id": "aac5079b-4f5b-4d90-b5a6-9af8e5aeb004",
   "metadata": {},
   "source": [
    "**Step 3:** Calculation of the p-value"
   ]
  },
  {
   "cell_type": "code",
   "execution_count": 6,
   "id": "1fd59a2f-d064-4bc4-a787-b4818fbb0e98",
   "metadata": {},
   "outputs": [
    {
     "name": "stdout",
     "output_type": "stream",
     "text": [
      "2.8421892364294266e-05\n"
     ]
    }
   ],
   "source": [
    "from scipy.stats import norm\n",
    "\n",
    "p_value = 1 - norm.cdf(z_score, loc=0, scale=1) # This is valid only when the alternative is greater than the null hypothesis.\n",
    "\n",
    "# p_value = norm.cdf(z_score, loc=0, scale=1) # For left-tailed tests\n",
    "\n",
    "print(p_value)"
   ]
  },
  {
   "cell_type": "markdown",
   "id": "f764114f-53b9-4e15-b839-ef0925bea369",
   "metadata": {},
   "source": [
    "**Step 4:** Comparing the p-value against the significance level\n",
    "\n",
    "The significance level of a hypothesis test ($\\alpha$) is the threshold point for \"beyond a reasonable doubt\".\n",
    "\n",
    "* If $p\\le \\alpha$, then we reject $H_0$\n",
    "* But, if $p> \\alpha$, we fail to reject $H_0$ (although it doesn't mean that $H_0$ is true)\n",
    "  \n",
    "$\\alpha$ should be set **prior** to conducting the hypothesis test"
   ]
  },
  {
   "cell_type": "code",
   "execution_count": 7,
   "id": "a9e30bb2-c9e6-44da-8df9-81191055f4d7",
   "metadata": {},
   "outputs": [
    {
     "name": "stdout",
     "output_type": "stream",
     "text": [
      "Null hypothesis rejected\n"
     ]
    }
   ],
   "source": [
    "alpha = 0.05\n",
    "if p_value <= alpha:\n",
    "    print(\"Null hypothesis rejected\")\n",
    "else:\n",
    "    print(\"Failed to reject the null hypothesis\")"
   ]
  },
  {
   "cell_type": "markdown",
   "id": "287f772b-dd25-4cb8-bdba-df2467e85b8a",
   "metadata": {},
   "source": [
    "**Step 5:** Calculate the confidence intervals of the mean.\n",
    "\n",
    "For a significance level of $\\alpha$, it's common to choose a confidence interval level of $1-\\alpha$.\n",
    "\n",
    "* $\\alpha = 0.05$ -> 95% confidence interval"
   ]
  },
  {
   "cell_type": "code",
   "execution_count": 9,
   "id": "7f98dfa4-a06d-44d0-a3be-7ed98c5dbf08",
   "metadata": {},
   "outputs": [
    {
     "name": "stdout",
     "output_type": "stream",
     "text": [
      "(0.3715170278637771, 0.41220698805838124)\n"
     ]
    }
   ],
   "source": [
    "lower = np.quantile(comp_bootstrap_distribution, 0.025)\n",
    "upper = np.quantile(comp_bootstrap_distribution, 0.975)\n",
    "print((lower, upper))"
   ]
  },
  {
   "cell_type": "markdown",
   "id": "36cd54c5-a721-4e9a-9ee2-c571cd6c8dbd",
   "metadata": {},
   "source": [
    "### Possible errors\n",
    "\n",
    "* Type I - False positive: we rejected the null hypothesis, when it was true.\n",
    "* Type II - False negative: we failed to reject the null hypothesis, when it was false."
   ]
  },
  {
   "cell_type": "markdown",
   "id": "c792c922-15bd-4800-9a57-9a98456f629f",
   "metadata": {},
   "source": [
    "# Hypothesis with two samples\n",
    "\n",
    "We are going to use the t-distribution or t-statistic, which is useful when we want to use a sample standard deviation in estimating a standard error (instead of using a bootstrapping distribution).\n",
    "\n",
    "### Example 2\n",
    "\n",
    "**Step 1**: Defitinion of the null and alternative hypotheses.\n",
    "\n",
    "* $H_0$: The mean compensation (in USD) is the same for those that coded first as a child and those that coded first as an adult.\n",
    "\n",
    "  $$H_0: \\mu_{child}=\\mu_{adult}$$\n",
    "  $$H_0: \\mu_{child}-\\mu_{adult}=0$$\n",
    "      \n",
    "* $H_A$: The mean compensation (in USD) is greater for those that coded first as a child compared to those that coded first as an adult.\n",
    "  \n",
    "  $$H_A: \\mu_{child}>\\mu_{adult}$$\n",
    "  $$H_A: \\mu_{child}-\\mu_{adult}>0$$\n",
    "\n",
    "**Step 2**: Calculating the t-test\n",
    "\n",
    "* Sample mean estimates the population mean\n",
    "* $\\bar x$: a sample mean\n",
    "* $\\bar x_{child}$: sample mean compensation for coding first as a child\n",
    "* $\\bar x_{adult}$: sample mean compensation for coding first as an adult\n",
    "* $\\bar x_{child}-\\bar x_{adult}$: a test statistic"
   ]
  },
  {
   "cell_type": "markdown",
   "id": "057269df-325c-4d85-9c25-05e9652c6872",
   "metadata": {},
   "source": [
    "$$z=\\frac{\\text{sample stat}-\\text{population parameter}}{\\text{standard error}}$$\n",
    "\n",
    "$$t=\\frac{\\text{difference in sample stats}-\\text{difference in population parameters}}{\\text{standard error}}$$\n",
    "\n",
    "$$t=\\frac{(\\bar x_{child}-\\bar x_{adult})-(\\mu _{child}-\\mu_{adult})}{SE(\\bar x_{child}-\\bar x_{adult})}$$\n",
    "\n",
    "$$t=\\frac{(\\bar x_{child}-\\bar x_{adult})-(0)}{SE(\\bar x_{child}-\\bar x_{adult})}$$\n",
    "\n",
    "$$SE(\\bar x_{child}-\\bar x_{adult})\\approx \\sqrt{\\frac{s^2_{child}}{n_{child}}+\\frac{s^2_{adult}}{n_{adult}}}$$\n",
    "\n",
    "$$t=\\frac{(\\bar x_{child}-\\bar x_{adult})}{\\sqrt{\\frac{s^2_{child}}{n_{child}}+\\frac{s^2_{adult}}{n_{adult}}}}$$"
   ]
  },
  {
   "cell_type": "code",
   "execution_count": 16,
   "id": "61db677f-8d01-4efd-bcd7-ad76f6bf5d2e",
   "metadata": {},
   "outputs": [
    {
     "name": "stdout",
     "output_type": "stream",
     "text": [
      "1.8699313316221844\n"
     ]
    }
   ],
   "source": [
    "means = df.groupby(\"age_first_code_cut\")[\"converted_comp\"].mean()\n",
    "s = df.groupby(\"age_first_code_cut\")[\"converted_comp\"].std()\n",
    "n = df.groupby(\"age_first_code_cut\")[\"converted_comp\"].count()\n",
    "\n",
    "numerator = means.loc[\"child\"] - means.loc[\"adult\"]\n",
    "denominator = np.sqrt(s.loc[\"child\"]**2/n.loc[\"child\"] + s.loc[\"adult\"]**2/n.loc[\"adult\"])\n",
    "t_stat = numerator / denominator\n",
    "\n",
    "print(t_stat)"
   ]
  },
  {
   "cell_type": "markdown",
   "id": "48690319-63a6-418d-86e9-6dbf3b682768",
   "metadata": {},
   "source": [
    "**Step 3:** Calculating the p-value\n",
    "\n",
    "Degrees of freedom: maximum number of logically independent values in the data sample"
   ]
  },
  {
   "cell_type": "code",
   "execution_count": 17,
   "id": "ace538f8-3ae1-4918-8e3b-1e0bb59a069a",
   "metadata": {},
   "outputs": [
    {
     "name": "stdout",
     "output_type": "stream",
     "text": [
      "0.030811302165157595\n"
     ]
    }
   ],
   "source": [
    "degrees_of_freedom = n.loc[\"child\"] + n.loc[\"adult\"] - 2 # -2 because we have the means of both groups as logically independent values\n",
    "\n",
    "from scipy.stats import t\n",
    "p_value = 1 - t.cdf(t_stat, df=degrees_of_freedom)\n",
    "print(p_value)"
   ]
  },
  {
   "cell_type": "markdown",
   "id": "d1a8904a-a298-4221-b880-44c683d63c9e",
   "metadata": {},
   "source": [
    "**Step 4:** Comparing the p-value against the significance level"
   ]
  },
  {
   "cell_type": "code",
   "execution_count": null,
   "id": "dc3ee147-e07a-463a-b8f7-97fc1606b4e4",
   "metadata": {},
   "outputs": [],
   "source": [
    "alpha = 0.05\n",
    "if p_value <= alpha:\n",
    "    print(\"Null hypothesis rejected\")\n",
    "else:\n",
    "    print(\"Failed to reject the null hypothesis\")"
   ]
  },
  {
   "cell_type": "markdown",
   "id": "c4df45d0-bf32-42d0-9efa-6c5305f27aa5",
   "metadata": {},
   "source": [
    "# Paired t-tests"
   ]
  },
  {
   "cell_type": "code",
   "execution_count": null,
   "id": "401822ba-e978-4724-a3e7-7edc2c8ab4e6",
   "metadata": {},
   "outputs": [],
   "source": []
  }
 ],
 "metadata": {
  "kernelspec": {
   "display_name": "Python 3 (ipykernel)",
   "language": "python",
   "name": "python3"
  },
  "language_info": {
   "codemirror_mode": {
    "name": "ipython",
    "version": 3
   },
   "file_extension": ".py",
   "mimetype": "text/x-python",
   "name": "python",
   "nbconvert_exporter": "python",
   "pygments_lexer": "ipython3",
   "version": "3.12.1"
  }
 },
 "nbformat": 4,
 "nbformat_minor": 5
}
