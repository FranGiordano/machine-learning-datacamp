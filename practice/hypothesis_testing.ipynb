{
 "cells": [
  {
   "cell_type": "markdown",
   "id": "ae089bdd-def7-4794-9feb-b9b594ac08c8",
   "metadata": {},
   "source": [
    "# Hypothesis Testing"
   ]
  },
  {
   "cell_type": "markdown",
   "id": "d768063f-b9c2-4f30-a526-a0a3f3d4bcff",
   "metadata": {},
   "source": [
    "Importing libraries and the dataset"
   ]
  },
  {
   "cell_type": "code",
   "execution_count": null,
   "id": "initial_id",
   "metadata": {
    "is_executing": true
   },
   "outputs": [],
   "source": [
    "import pandas as pd\n",
    "import seaborn as sns\n",
    "import matplotlib.pyplot as plt\n",
    "import numpy as np\n",
    "df = pd.read_feather('../datasets/stack_overflow.feather')\n",
    "df.head()"
   ]
  },
  {
   "cell_type": "markdown",
   "id": "bd612035-002c-4f44-b1d8-0f3fd4606750",
   "metadata": {
    "collapsed": false,
    "jupyter": {
     "outputs_hidden": false
    }
   },
   "source": [
    "# Hypothesis with one sample\n",
    "\n",
    "A hypothesis is a statement about an unknown population parameter.\n",
    "\n",
    "A hypothesis test is a test of two competing hypotheses:\n",
    "\n",
    "* The null hypothesis (H0) is the existing idea.\n",
    "* The alternative hypothesis (HA) is the new \"challenger\" idea of the researcher.\n",
    "\n",
    "### Example 1\n",
    "\n",
    "**Step 1**: Defitinion of the null and alternative hypotheses based on a parameter (in this case the mean).\n",
    "* $H_0$: The proportion of data scientists starting programming as children is 35%\n",
    "* $H_A$: The proportion of data scientists starting programming as children is greater than 35%\n",
    "\n",
    "**Step 2**: Calculation of the z-score\n",
    "\n",
    "$$z = \\frac{\\text{value}-\\text{mean}}{\\text{standard deviation}} = \\frac{\\text{sample stat}-\\text{hypoth. param. value}}{\\text{standard error}}$$\n",
    "\n",
    "Where:\n",
    "\n",
    "$$\\text{standard error} = s_{\\text{bootstrap distribution}}$$"
   ]
  },
  {
   "cell_type": "code",
   "execution_count": 10,
   "id": "0b4e6eb9-1e86-4306-ae65-f84ea2a62c70",
   "metadata": {},
   "outputs": [
    {
     "name": "stdout",
     "output_type": "stream",
     "text": [
      "4.040952601350419\n"
     ]
    }
   ],
   "source": [
    "# Generating a bootstrap distribution\n",
    "comp_bootstrap_distribution = []\n",
    "for i in range(5000):\n",
    "    sample = df.sample(frac=1, replace=True)\n",
    "    sample_bool = sample[\"age_first_code_cut\"] == \"child\"\n",
    "    comp_bootstrap_distribution.append(np.mean(sample_bool))\n",
    "\n",
    "# Standard error - Standard deviation of the bootstrap distribution\n",
    "std_error = np.std(comp_bootstrap_distribution, ddof=1)\n",
    "\n",
    "# Mean of the sample\n",
    "proportion_child_sample = (df[\"age_first_code_cut\"] == \"child\").mean()\n",
    "\n",
    "# Hypothesized value from the null hypothesis\n",
    "proportion_child_hypothesis = 0.35\n",
    "\n",
    "# Z-score\n",
    "z_score = (proportion_child_sample - proportion_child_hypothesis) / std_error\n",
    "print(z_score)"
   ]
  },
  {
   "cell_type": "markdown",
   "id": "aac5079b-4f5b-4d90-b5a6-9af8e5aeb004",
   "metadata": {},
   "source": [
    "**Step 3:** Calculation of the p-value"
   ]
  },
  {
   "cell_type": "code",
   "execution_count": 6,
   "id": "1fd59a2f-d064-4bc4-a787-b4818fbb0e98",
   "metadata": {},
   "outputs": [
    {
     "name": "stdout",
     "output_type": "stream",
     "text": [
      "2.8421892364294266e-05\n"
     ]
    }
   ],
   "source": [
    "from scipy.stats import norm\n",
    "\n",
    "p_value = 1 - norm.cdf(z_score, loc=0, scale=1) # This is valid only when the alternative is greater than the null hypothesis.\n",
    "\n",
    "# p_value = norm.cdf(z_score, loc=0, scale=1) # For left-tailed tests\n",
    "\n",
    "print(p_value)"
   ]
  },
  {
   "cell_type": "markdown",
   "id": "f764114f-53b9-4e15-b839-ef0925bea369",
   "metadata": {},
   "source": [
    "**Step 4:** Comparing the p-value against the significance level\n",
    "\n",
    "The significance level of a hypothesis test ($\\alpha$) is the threshold point for \"beyond a reasonable doubt\".\n",
    "\n",
    "* If $p\\le \\alpha$, then we reject $H_0$\n",
    "* But, if $p> \\alpha$, we fail to reject $H_0$ (although it doesn't mean that $H_0$ is true)\n",
    "  \n",
    "$\\alpha$ should be set **prior** to conducting the hypothesis test"
   ]
  },
  {
   "cell_type": "code",
   "execution_count": 7,
   "id": "a9e30bb2-c9e6-44da-8df9-81191055f4d7",
   "metadata": {},
   "outputs": [
    {
     "name": "stdout",
     "output_type": "stream",
     "text": [
      "Null hypothesis rejected\n"
     ]
    }
   ],
   "source": [
    "alpha = 0.05\n",
    "if p_value <= alpha:\n",
    "    print(\"Null hypothesis rejected\")\n",
    "else:\n",
    "    print(\"Failed to reject the null hypothesis\")"
   ]
  },
  {
   "cell_type": "markdown",
   "id": "287f772b-dd25-4cb8-bdba-df2467e85b8a",
   "metadata": {},
   "source": [
    "**Step 5:** Calculate the confidence intervals of the mean.\n",
    "\n",
    "For a significance level of $\\alpha$, it's common to choose a confidence interval level of $1-\\alpha$.\n",
    "\n",
    "* $\\alpha = 0.05$ -> 95% confidence interval"
   ]
  },
  {
   "cell_type": "code",
   "execution_count": 9,
   "id": "7f98dfa4-a06d-44d0-a3be-7ed98c5dbf08",
   "metadata": {},
   "outputs": [
    {
     "name": "stdout",
     "output_type": "stream",
     "text": [
      "(0.3715170278637771, 0.41220698805838124)\n"
     ]
    }
   ],
   "source": [
    "lower = np.quantile(comp_bootstrap_distribution, 0.025)\n",
    "upper = np.quantile(comp_bootstrap_distribution, 0.975)\n",
    "print((lower, upper))"
   ]
  },
  {
   "cell_type": "markdown",
   "id": "36cd54c5-a721-4e9a-9ee2-c571cd6c8dbd",
   "metadata": {},
   "source": [
    "### Possible errors\n",
    "\n",
    "* Type I - False positive: we rejected the null hypothesis, when it was true.\n",
    "* Type II - False negative: we failed to reject the null hypothesis, when it was false."
   ]
  },
  {
   "cell_type": "markdown",
   "id": "c792c922-15bd-4800-9a57-9a98456f629f",
   "metadata": {},
   "source": [
    "# Hypothesis with two samples\n",
    "\n",
    "We are going to use the t-distribution or t-statistic, which is useful when we want to use a sample standard deviation in estimating a standard error (instead of using a bootstrapping distribution).\n",
    "\n",
    "### Example 2\n",
    "\n",
    "**Step 1**: Defitinion of the null and alternative hypotheses.\n",
    "\n",
    "* $H_0$: The mean compensation (in USD) is the same for those that coded first as a child and those that coded first as an adult.\n",
    "\n",
    "  $$H_0: \\mu_{child}=\\mu_{adult}$$\n",
    "  $$H_0: \\mu_{child}-\\mu_{adult}=0$$\n",
    "      \n",
    "* $H_A$: The mean compensation (in USD) is greater for those that coded first as a child compared to those that coded first as an adult.\n",
    "  \n",
    "  $$H_A: \\mu_{child}>\\mu_{adult}$$\n",
    "  $$H_A: \\mu_{child}-\\mu_{adult}>0$$\n",
    "\n",
    "**Step 2**: Calculating the t-test\n",
    "\n",
    "* Sample mean estimates the population mean\n",
    "* $\\bar x$: a sample mean\n",
    "* $\\bar x_{child}$: sample mean compensation for coding first as a child\n",
    "* $\\bar x_{adult}$: sample mean compensation for coding first as an adult\n",
    "* $\\bar x_{child}-\\bar x_{adult}$: a test statistic"
   ]
  },
  {
   "cell_type": "markdown",
   "id": "057269df-325c-4d85-9c25-05e9652c6872",
   "metadata": {},
   "source": [
    "$$z=\\frac{\\text{sample stat}-\\text{population parameter}}{\\text{standard error}}$$\n",
    "\n",
    "$$t=\\frac{\\text{difference in sample stats}-\\text{difference in population parameters}}{\\text{standard error}}$$\n",
    "\n",
    "$$t=\\frac{(\\bar x_{child}-\\bar x_{adult})-(\\mu _{child}-\\mu_{adult})}{SE(\\bar x_{child}-\\bar x_{adult})}$$\n",
    "\n",
    "$$t=\\frac{(\\bar x_{child}-\\bar x_{adult})-(0)}{SE(\\bar x_{child}-\\bar x_{adult})}$$\n",
    "\n",
    "$$SE(\\bar x_{child}-\\bar x_{adult})\\approx \\sqrt{\\frac{s^2_{child}}{n_{child}}+\\frac{s^2_{adult}}{n_{adult}}}$$\n",
    "\n",
    "$$t=\\frac{(\\bar x_{child}-\\bar x_{adult})}{\\sqrt{\\frac{s^2_{child}}{n_{child}}+\\frac{s^2_{adult}}{n_{adult}}}}$$"
   ]
  },
  {
   "cell_type": "code",
   "execution_count": 16,
   "id": "61db677f-8d01-4efd-bcd7-ad76f6bf5d2e",
   "metadata": {},
   "outputs": [
    {
     "name": "stdout",
     "output_type": "stream",
     "text": [
      "1.8699313316221844\n"
     ]
    }
   ],
   "source": [
    "means = df.groupby(\"age_first_code_cut\")[\"converted_comp\"].mean()\n",
    "s = df.groupby(\"age_first_code_cut\")[\"converted_comp\"].std()\n",
    "n = df.groupby(\"age_first_code_cut\")[\"converted_comp\"].count()\n",
    "\n",
    "numerator = means.loc[\"child\"] - means.loc[\"adult\"]\n",
    "denominator = np.sqrt(s.loc[\"child\"]**2/n.loc[\"child\"] + s.loc[\"adult\"]**2/n.loc[\"adult\"])\n",
    "t_stat = numerator / denominator\n",
    "\n",
    "print(t_stat)"
   ]
  },
  {
   "cell_type": "markdown",
   "id": "48690319-63a6-418d-86e9-6dbf3b682768",
   "metadata": {},
   "source": [
    "**Step 3:** Calculating the p-value\n",
    "\n",
    "Degrees of freedom: maximum number of logically independent values in the data sample"
   ]
  },
  {
   "cell_type": "code",
   "execution_count": 17,
   "id": "ace538f8-3ae1-4918-8e3b-1e0bb59a069a",
   "metadata": {},
   "outputs": [
    {
     "name": "stdout",
     "output_type": "stream",
     "text": [
      "0.030811302165157595\n"
     ]
    }
   ],
   "source": [
    "degrees_of_freedom = n.loc[\"child\"] + n.loc[\"adult\"] - 2 # -2 because we have the means of both groups as logically independent values\n",
    "\n",
    "from scipy.stats import t\n",
    "p_value = 1 - t.cdf(t_stat, df=degrees_of_freedom)\n",
    "print(p_value)"
   ]
  },
  {
   "cell_type": "markdown",
   "id": "d1a8904a-a298-4221-b880-44c683d63c9e",
   "metadata": {},
   "source": [
    "**Step 4:** Comparing the p-value against the significance level"
   ]
  },
  {
   "cell_type": "code",
   "execution_count": null,
   "id": "dc3ee147-e07a-463a-b8f7-97fc1606b4e4",
   "metadata": {},
   "outputs": [],
   "source": [
    "alpha = 0.05\n",
    "if p_value <= alpha:\n",
    "    print(\"Null hypothesis rejected\")\n",
    "else:\n",
    "    print(\"Failed to reject the null hypothesis\")"
   ]
  },
  {
   "cell_type": "markdown",
   "id": "c4df45d0-bf32-42d0-9efa-6c5305f27aa5",
   "metadata": {},
   "source": [
    "# Paired t-tests"
   ]
  },
  {
   "cell_type": "code",
   "execution_count": 1,
   "id": "401822ba-e978-4724-a3e7-7edc2c8ab4e6",
   "metadata": {},
   "outputs": [
    {
     "ename": "NameError",
     "evalue": "name 'sample_dem_data' is not defined",
     "output_type": "error",
     "traceback": [
      "\u001b[1;31m---------------------------------------------------------------------------\u001b[0m",
      "\u001b[1;31mNameError\u001b[0m                                 Traceback (most recent call last)",
      "Cell \u001b[1;32mIn[1], line 2\u001b[0m\n\u001b[0;32m      1\u001b[0m \u001b[38;5;66;03m# Calculate the differences from 2012 to 2016\u001b[39;00m\n\u001b[1;32m----> 2\u001b[0m sample_dem_data[\u001b[38;5;124m'\u001b[39m\u001b[38;5;124mdiff\u001b[39m\u001b[38;5;124m'\u001b[39m] \u001b[38;5;241m=\u001b[39m \u001b[43msample_dem_data\u001b[49m[\u001b[38;5;124m'\u001b[39m\u001b[38;5;124mdem_percent_12\u001b[39m\u001b[38;5;124m'\u001b[39m] \u001b[38;5;241m-\u001b[39m sample_dem_data[\u001b[38;5;124m'\u001b[39m\u001b[38;5;124mdem_percent_16\u001b[39m\u001b[38;5;124m'\u001b[39m]\n\u001b[0;32m      4\u001b[0m \u001b[38;5;66;03m# Find the mean of the diff column\u001b[39;00m\n\u001b[0;32m      5\u001b[0m xbar_diff \u001b[38;5;241m=\u001b[39m sample_dem_data[\u001b[38;5;124m'\u001b[39m\u001b[38;5;124mdiff\u001b[39m\u001b[38;5;124m'\u001b[39m]\u001b[38;5;241m.\u001b[39mmean()\n",
      "\u001b[1;31mNameError\u001b[0m: name 'sample_dem_data' is not defined"
     ]
    }
   ],
   "source": [
    "# Calculate the differences from 2012 to 2016\n",
    "sample_dem_data['diff'] = sample_dem_data['dem_percent_12'] - sample_dem_data['dem_percent_16']\n",
    "\n",
    "# Find the mean of the diff column\n",
    "xbar_diff = sample_dem_data['diff'].mean()\n",
    "\n",
    "# Find the standard deviation of the diff column\n",
    "s_diff = sample_dem_data['diff'].std()\n",
    "\n",
    "# Plot a histogram of diff with 20 bins\n",
    "sample_dem_data['diff'].hist(bins=20)\n",
    "plt.show()"
   ]
  },
  {
   "cell_type": "code",
   "execution_count": 2,
   "id": "e5d48669-26fe-4f64-b905-51523aa641f5",
   "metadata": {},
   "outputs": [
    {
     "ename": "NameError",
     "evalue": "name 'pingouin' is not defined",
     "output_type": "error",
     "traceback": [
      "\u001b[1;31m---------------------------------------------------------------------------\u001b[0m",
      "\u001b[1;31mNameError\u001b[0m                                 Traceback (most recent call last)",
      "Cell \u001b[1;32mIn[2], line 2\u001b[0m\n\u001b[0;32m      1\u001b[0m \u001b[38;5;66;03m# Conduct a t-test on diff\u001b[39;00m\n\u001b[1;32m----> 2\u001b[0m test_results \u001b[38;5;241m=\u001b[39m \u001b[43mpingouin\u001b[49m\u001b[38;5;241m.\u001b[39mttest(x\u001b[38;5;241m=\u001b[39msample_dem_data[\u001b[38;5;124m'\u001b[39m\u001b[38;5;124mdiff\u001b[39m\u001b[38;5;124m'\u001b[39m], \n\u001b[0;32m      3\u001b[0m                               y\u001b[38;5;241m=\u001b[39m\u001b[38;5;241m0\u001b[39m, \n\u001b[0;32m      4\u001b[0m                               alternative\u001b[38;5;241m=\u001b[39m\u001b[38;5;124m\"\u001b[39m\u001b[38;5;124mtwo-sided\u001b[39m\u001b[38;5;124m\"\u001b[39m)\n\u001b[0;32m      6\u001b[0m \u001b[38;5;66;03m# Conduct a paired t-test on dem_percent_12 and dem_percent_16\u001b[39;00m\n\u001b[0;32m      7\u001b[0m paired_test_results \u001b[38;5;241m=\u001b[39m pingouin\u001b[38;5;241m.\u001b[39mttest(x\u001b[38;5;241m=\u001b[39msample_dem_data[\u001b[38;5;124m'\u001b[39m\u001b[38;5;124mdem_percent_12\u001b[39m\u001b[38;5;124m'\u001b[39m], \n\u001b[0;32m      8\u001b[0m                                      y\u001b[38;5;241m=\u001b[39msample_dem_data[\u001b[38;5;124m'\u001b[39m\u001b[38;5;124mdem_percent_16\u001b[39m\u001b[38;5;124m'\u001b[39m],\n\u001b[0;32m      9\u001b[0m                                      paired\u001b[38;5;241m=\u001b[39m\u001b[38;5;28;01mTrue\u001b[39;00m,\n\u001b[0;32m     10\u001b[0m                                      alternative\u001b[38;5;241m=\u001b[39m\u001b[38;5;124m\"\u001b[39m\u001b[38;5;124mtwo-sided\u001b[39m\u001b[38;5;124m\"\u001b[39m)\n",
      "\u001b[1;31mNameError\u001b[0m: name 'pingouin' is not defined"
     ]
    }
   ],
   "source": [
    "# Conduct a t-test on diff\n",
    "test_results = pingouin.ttest(x=sample_dem_data['diff'], \n",
    "                              y=0, \n",
    "                              alternative=\"two-sided\")\n",
    "\n",
    "# Conduct a paired t-test on dem_percent_12 and dem_percent_16\n",
    "paired_test_results = pingouin.ttest(x=sample_dem_data['dem_percent_12'], \n",
    "                                     y=sample_dem_data['dem_percent_16'],\n",
    "                                     paired=True,\n",
    "                                     alternative=\"two-sided\")\n",
    "                              \n",
    "# Print the paired test results\n",
    "print(paired_test_results)"
   ]
  },
  {
   "cell_type": "markdown",
   "id": "967e2d1a-d67c-4ab2-8fe7-fee6f665cbe7",
   "metadata": {},
   "source": [
    "# ANOVA tests"
   ]
  },
  {
   "cell_type": "code",
   "execution_count": null,
   "id": "a40ebbbc-ab7c-493a-ad2d-d6acf22bb8fd",
   "metadata": {},
   "outputs": [],
   "source": [
    "# Calculate the mean pack_price for each shipment_mode\n",
    "xbar_pack_by_mode = late_shipments.groupby(\"shipment_mode\")['pack_price'].mean()\n",
    "\n",
    "# Calculate the standard deviation of the pack_price for each shipment_mode\n",
    "s_pack_by_mode = late_shipments.groupby(\"shipment_mode\")['pack_price'].std()\n",
    "\n",
    "# Boxplot of shipment_mode vs. pack_price\n",
    "sns.boxplot(x=\"pack_price\", y=\"shipment_mode\", data=late_shipments)\n",
    "plt.show()\n",
    "\n",
    "# Run an ANOVA for pack_price across shipment_mode\n",
    "anova_results = pingouin.anova(data=late_shipments,\n",
    "                               dv=\"pack_price\",\n",
    "                               between=\"shipment_mode\")\n",
    "\n",
    "# Print anova_results\n",
    "print(anova_results)"
   ]
  },
  {
   "cell_type": "code",
   "execution_count": null,
   "id": "58aacd89-5db7-42f0-8beb-7d49d680e1a0",
   "metadata": {},
   "outputs": [],
   "source": [
    "# Perform a pairwise t-test on pack price, grouped by shipment mode\n",
    "pairwise_results = pingouin.pairwise_tests(data=late_shipments, \n",
    "                                           dv=\"pack_price\",\n",
    "                                           between=\"shipment_mode\",\n",
    "                                           padjust=\"none\")\n",
    "\n",
    "# Print pairwise_results\n",
    "print(pairwise_results)"
   ]
  },
  {
   "cell_type": "code",
   "execution_count": null,
   "id": "de3b27c5-fdb8-46b7-8f16-7ef8d735d5e3",
   "metadata": {},
   "outputs": [],
   "source": [
    "# Modify the pairwise t-tests to use Bonferroni p-value adjustment\n",
    "pairwise_results = pingouin.pairwise_tests(data=late_shipments, \n",
    "                                           dv=\"pack_price\",\n",
    "                                           between=\"shipment_mode\",\n",
    "                                           padjust=\"bonf\")\n",
    "\n",
    "# Print pairwise_results\n",
    "print(pairwise_results)"
   ]
  }
 ],
 "metadata": {
  "kernelspec": {
   "display_name": "Python 3 (ipykernel)",
   "language": "python",
   "name": "python3"
  },
  "language_info": {
   "codemirror_mode": {
    "name": "ipython",
    "version": 3
   },
   "file_extension": ".py",
   "mimetype": "text/x-python",
   "name": "python",
   "nbconvert_exporter": "python",
   "pygments_lexer": "ipython3",
   "version": "3.12.1"
  }
 },
 "nbformat": 4,
 "nbformat_minor": 5
}
